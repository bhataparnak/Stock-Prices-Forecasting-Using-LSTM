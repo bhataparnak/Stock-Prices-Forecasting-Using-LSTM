{
  "nbformat": 4,
  "nbformat_minor": 0,
  "metadata": {
    "colab": {
      "name": "milestone2_LSTM.ipynb",
      "provenance": [],
      "collapsed_sections": []
    },
    "kernelspec": {
      "name": "python3",
      "display_name": "Python 3"
    },
    "accelerator": "GPU"
  },
  "cells": [
    {
      "cell_type": "markdown",
      "metadata": {
        "id": "tz65ZXwWqqu6"
      },
      "source": [
        "**Introduction**\n",
        "\n",
        "One of the most important things to do is to predict how the stock market will do. Physical vs. psychological factors, rational vs. irrational behavior, and so on are all factors in the prediction. Both of these factors combine to make stock prices extremely volatile and difficult to forecast accurately.\n",
        "\n",
        "Fundamental and technical analysis are the two main components of stock market analysis.\n",
        "\n",
        "Fundamental analysis is the process of determining a company's potential viability based on its existing market environment and financial results.\n",
        "\n",
        "Technical analysis, on the other hand, entails reading charts and analyzing statistical data to determine stock market patterns.\n"
      ]
    },
    {
      "cell_type": "markdown",
      "metadata": {
        "id": "RMTB4UzxJBYI"
      },
      "source": [
        "**PART 1: SETTING UP COLAB.** "
      ]
    },
    {
      "cell_type": "markdown",
      "metadata": {
        "id": "IgpenaoGJUWb"
      },
      "source": [
        "Tensorflow version 1.x"
      ]
    },
    {
      "cell_type": "code",
      "metadata": {
        "id": "C30nr_kkkTKe"
      },
      "source": [
        "%tensorflow_version 1.x"
      ],
      "execution_count": null,
      "outputs": []
    },
    {
      "cell_type": "markdown",
      "metadata": {
        "id": "nR8mkPorJbXO"
      },
      "source": [
        "Importing all the libraries and dependencies required"
      ]
    },
    {
      "cell_type": "code",
      "metadata": {
        "id": "tKDUKKQxLW0O"
      },
      "source": [
        "#import libraries\n",
        "from pandas_datareader import data\n",
        "import matplotlib.pyplot as plt\n",
        "import pandas as pd\n",
        "import datetime as dt\n",
        "import urllib.request, json \n",
        "import os\n",
        "import numpy as np\n",
        "import tensorflow as tf \n",
        "from sklearn.preprocessing import MinMaxScaler\n",
        "from matplotlib.pylab import rcParams"
      ],
      "execution_count": null,
      "outputs": []
    },
    {
      "cell_type": "code",
      "metadata": {
        "id": "mFevhFw-kdTL",
        "colab": {
          "base_uri": "https://localhost:8080/"
        },
        "outputId": "6f9356ca-cf47-4cf6-a648-cfea23478f3d"
      },
      "source": [
        "import tensorflow\n",
        "print(tensorflow.__version__)"
      ],
      "execution_count": null,
      "outputs": [
        {
          "output_type": "stream",
          "text": [
            "1.15.2\n"
          ],
          "name": "stdout"
        }
      ]
    },
    {
      "cell_type": "code",
      "metadata": {
        "id": "NtLgz3hyLfYW",
        "colab": {
          "base_uri": "https://localhost:8080/"
        },
        "outputId": "64a0e288-eeff-433f-aff2-6026b4735d33"
      },
      "source": [
        "#declare name of your device and drive location select GPU\n",
        "device_name = tf.test.gpu_device_name()\n",
        "if device_name != '/device:GPU:0':\n",
        "  raise SystemError('GPU device not found')\n",
        "print('Found GPU at: {}'.format(device_name))"
      ],
      "execution_count": null,
      "outputs": [
        {
          "output_type": "stream",
          "text": [
            "Found GPU at: /device:GPU:0\n"
          ],
          "name": "stdout"
        }
      ]
    },
    {
      "cell_type": "markdown",
      "metadata": {
        "id": "G-vbu2o-ByNe"
      },
      "source": [
        "Running this command will generate a message that will ask you to click on a link where you'll obtain your GDrive auth code.\n",
        "\n",
        "Copy paste that code in the text box that will appear below"
      ]
    },
    {
      "cell_type": "code",
      "metadata": {
        "id": "qzy0xI76M0kH",
        "colab": {
          "base_uri": "https://localhost:8080/"
        },
        "outputId": "2fe6c4c7-c932-49e2-e486-dc747cf66ea1"
      },
      "source": [
        "from google.colab import drive\n",
        "drive.mount(\"/content/drive\", force_remount=True)"
      ],
      "execution_count": null,
      "outputs": [
        {
          "output_type": "stream",
          "text": [
            "Mounted at /content/drive\n"
          ],
          "name": "stdout"
        }
      ]
    },
    {
      "cell_type": "markdown",
      "metadata": {
        "id": "J1FVS6dfB48b"
      },
      "source": [
        "The CSV file is located in a subdirectory."
      ]
    },
    {
      "cell_type": "code",
      "metadata": {
        "id": "Adwy15iPM_P6"
      },
      "source": [
        "#name of your google path\n",
        "googlepath = \"/content/drive/My Drive\""
      ],
      "execution_count": null,
      "outputs": []
    },
    {
      "cell_type": "markdown",
      "metadata": {
        "id": "7OQWlE4uF8r1"
      },
      "source": [
        "The columns Open and Close represent the starting and final price at which the stock is traded on a particular day.\n",
        "\n",
        "High and Low represent the maximum and minimum price of the share for the day respectively."
      ]
    },
    {
      "cell_type": "code",
      "metadata": {
        "id": "a7M37cqFOBgp"
      },
      "source": [
        "#Get your API data\n",
        "file_name=\"AMZN.csv\"\n",
        "# file_name=\"DAL.csv\"\n",
        "# file_name=\"NFLX.csv\"\n",
        "# file_name=\"UAL.csv\"\n",
        "df = pd.read_csv(os.path.join(f'{googlepath}',f'{file_name}'),delimiter=',',usecols=['Date','Open','High','Low','Close'])"
      ],
      "execution_count": null,
      "outputs": []
    },
    {
      "cell_type": "code",
      "metadata": {
        "id": "Ju_wzrBjTk2R",
        "colab": {
          "base_uri": "https://localhost:8080/"
        },
        "outputId": "c6a0c7a4-3577-40c7-a203-266573bac85f"
      },
      "source": [
        "df = df.sort_values('Date')\n",
        "df.head(), len(df)\n",
        "# print(df.iloc[-330,:])\n",
        "# df=df.iloc[:,:100]"
      ],
      "execution_count": null,
      "outputs": [
        {
          "output_type": "execute_result",
          "data": {
            "text/plain": [
              "(         Date        Open        High         Low       Close\n",
              " 0  2016-05-11  705.789978  719.000000  701.650024  713.229980\n",
              " 1  2016-05-12  717.380005  722.450012  711.510010  717.929993\n",
              " 2  2016-05-13  714.640015  719.250000  706.510010  709.919983\n",
              " 3  2016-05-16  710.130005  713.250000  700.280029  710.659973\n",
              " 4  2016-05-17  709.900024  714.469971  693.909973  695.270020, 1258)"
            ]
          },
          "metadata": {
            "tags": []
          },
          "execution_count": 270
        }
      ]
    },
    {
      "cell_type": "markdown",
      "metadata": {
        "id": "O-0qgHjTSSg7"
      },
      "source": [
        "**FIND AVERAGE PRICE OF THE HIGH AND LOW PRICES AND USE THAT TO PLOT.**"
      ]
    },
    {
      "cell_type": "code",
      "metadata": {
        "id": "eiTPx4Y1k_4h",
        "colab": {
          "base_uri": "https://localhost:8080/",
          "height": 597
        },
        "outputId": "bff28bda-e9b0-4c33-c71c-fe18e98b4956"
      },
      "source": [
        "plt.figure(figsize = (18,9))\n",
        "plt.plot(range(df.shape[0]),(df['Low']+df['High'])/2.0)\n",
        "plt.xticks(range(0,df.shape[0],50),df['Date'].loc[::50],rotation=45)\n",
        "plt.xlabel('Date',fontsize=18)\n",
        "plt.ylabel('avg Price',fontsize=18)\n",
        "plt.show()"
      ],
      "execution_count": null,
      "outputs": [
        {
          "output_type": "display_data",
          "data": {
            "image/png": "[encoded data removed]",
            "text/plain": [
              "<Figure size 1296x648 with 1 Axes>"
            ]
          },
          "metadata": {
            "tags": [],
            "needs_background": "light"
          }
        }
      ]
    },
    {
      "cell_type": "code",
      "metadata": {
        "id": "Bidu6v2VlExF"
      },
      "source": [
        "# First calculate the average prices from the highest and lowest \n",
        "high_prices = df.loc[:,'High'].to_numpy()\n",
        "low_prices = df.loc[:,'Low'].to_numpy()\n",
        "avg_prices = (high_prices+low_prices)/2.0"
      ],
      "execution_count": null,
      "outputs": []
    },
    {
      "cell_type": "code",
      "metadata": {
        "colab": {
          "base_uri": "https://localhost:8080/"
        },
        "id": "72nIIMgxDMSe",
        "outputId": "ed093bbe-7c70-4397-e5a4-6fcc819f4cae"
      },
      "source": [
        "high_prices"
      ],
      "execution_count": null,
      "outputs": [
        {
          "output_type": "execute_result",
          "data": {
            "text/plain": [
              "array([ 719.      ,  722.450012,  719.25    ,  713.25    , ..., 3354.699951, 3314.399902, 3330.889893, 3283.      ])"
            ]
          },
          "metadata": {
            "tags": []
          },
          "execution_count": 273
        }
      ]
    },
    {
      "cell_type": "code",
      "metadata": {
        "id": "Ji5CVLVVeXEY"
      },
      "source": [
        "train_size=817\n",
        "test_size=440\n",
        "start_date=0"
      ],
      "execution_count": null,
      "outputs": []
    },
    {
      "cell_type": "markdown",
      "metadata": {
        "id": "hb31OZW-HkDM"
      },
      "source": [
        "LSTMs are widely used for sequence prediction problems and have proven to be extremely effective. The reason they work so well is because LSTM is able to store past information that is important, and forget the information that is not. LSTM has three gates:\n",
        "\n",
        "The input gate: The input gate adds information to the cell state\n",
        "\n",
        "The forget gate: It removes the information that is no longer required by the model\n",
        "\n",
        "The output gate: Output Gate at LSTM selects the information to be shown as output"
      ]
    },
    {
      "cell_type": "code",
      "metadata": {
        "id": "8USUGE2xMTqm"
      },
      "source": [
        "scaler = MinMaxScaler(feature_range=(0,1)) #use mimaxscaler from scikitlearn to normalize data\n"
      ],
      "execution_count": null,
      "outputs": []
    },
    {
      "cell_type": "code",
      "metadata": {
        "id": "mMsNDtrSlWFQ",
        "colab": {
          "base_uri": "https://localhost:8080/"
        },
        "outputId": "fe84b416-142d-421d-8700-212ca8c5dc90"
      },
      "source": [
        "df1=avg_prices[start_date:train_size+start_date+test_size]\n",
        "df1=scaler.fit_transform(np.array(df1).reshape(-1,1))\n",
        "\n",
        "train = df1[0:train_size,:1]\n",
        "test = df1[train_size:train_size+test_size,:1]\n",
        "\n",
        "(df1)\n",
        "test.shape"
      ],
      "execution_count": null,
      "outputs": [
        {
          "output_type": "execute_result",
          "data": {
            "text/plain": [
              "(440, 1)"
            ]
          },
          "metadata": {
            "tags": []
          },
          "execution_count": 276
        }
      ]
    },
    {
      "cell_type": "code",
      "metadata": {
        "id": "7abPrloScFTN"
      },
      "source": [
        "# scaler = MinMaxScaler(feature_range=(0,1)) #use mimaxscaler from scikitlearn to normalize data\n",
        "# train = train.reshape(-1,1)\n",
        "# test = test.reshape(-1,1)"
      ],
      "execution_count": null,
      "outputs": []
    },
    {
      "cell_type": "code",
      "metadata": {
        "colab": {
          "base_uri": "https://localhost:8080/"
        },
        "id": "lKCRR7e8XXhb",
        "outputId": "5fdd34d5-f317-42c8-c554-10790d7a3d98"
      },
      "source": [
        "df1"
      ],
      "execution_count": null,
      "outputs": [
        {
          "output_type": "execute_result",
          "data": {
            "text/plain": [
              "array([[0.007369],\n",
              "       [0.009721],\n",
              "       [0.008272],\n",
              "       [0.006111],\n",
              "       ...,\n",
              "       [0.929535],\n",
              "       [0.925816],\n",
              "       [0.915664],\n",
              "       [0.925975]])"
            ]
          },
          "metadata": {
            "tags": []
          },
          "execution_count": 278
        }
      ]
    },
    {
      "cell_type": "code",
      "metadata": {
        "id": "bTdzzDbJldpZ",
        "colab": {
          "base_uri": "https://localhost:8080/"
        },
        "outputId": "51e4b514-197c-4e0a-e752-42986b51353a"
      },
      "source": [
        "# Reshape both train and test data\n",
        "train = (np.array(train).reshape(-1,1))\n",
        "train.shape\n"
      ],
      "execution_count": null,
      "outputs": [
        {
          "output_type": "execute_result",
          "data": {
            "text/plain": [
              "(817, 1)"
            ]
          },
          "metadata": {
            "tags": []
          },
          "execution_count": 279
        }
      ]
    },
    {
      "cell_type": "markdown",
      "metadata": {
        "id": "raAKJn0ccIot"
      },
      "source": [
        "**Make this into a 2d shape train**"
      ]
    },
    {
      "cell_type": "code",
      "metadata": {
        "id": "s3ayY6hlR7HL",
        "colab": {
          "base_uri": "https://localhost:8080/"
        },
        "outputId": "c8b3fda2-b178-47f1-d2ac-b4f5b3ecfb0e"
      },
      "source": [
        "# Normalize test data\n",
        "test = (test.reshape(-1,1))\n",
        "test=np.array(test)\n",
        "test.shape"
      ],
      "execution_count": null,
      "outputs": [
        {
          "output_type": "execute_result",
          "data": {
            "text/plain": [
              "(440, 1)"
            ]
          },
          "metadata": {
            "tags": []
          },
          "execution_count": 280
        }
      ]
    },
    {
      "cell_type": "code",
      "metadata": {
        "id": "qZVqjSphI8tB"
      },
      "source": [
        "def create_dataset(dataset, time_step=1):\n",
        "\tdataX, dataY = [], []\n",
        "\tfor i in range(len(dataset)-time_step-1):\n",
        "\t\ta = dataset[i:(i+time_step), 0]   ###i=0, 0,1,2,3-----99   100 \n",
        "\t\tdataX.append(a)\n",
        "\t\tdataY.append(dataset[i + time_step, 0])\n",
        "\treturn np.array(dataX), np.array(dataY)"
      ],
      "execution_count": null,
      "outputs": []
    },
    {
      "cell_type": "code",
      "metadata": {
        "id": "6wTU8F5DIdnz"
      },
      "source": [
        "# reshape into X=t,t+1,t+2,t+3 and Y=t+4\n",
        "time_step = 100\n",
        "X_train, y_train = create_dataset(train, time_step)\n",
        "X_test, ytest = create_dataset(test, time_step)"
      ],
      "execution_count": null,
      "outputs": []
    },
    {
      "cell_type": "code",
      "metadata": {
        "colab": {
          "base_uri": "https://localhost:8080/"
        },
        "id": "-csX9kCfJBvw",
        "outputId": "25ea6367-e11c-4a8c-fc04-3da02b60aa01"
      },
      "source": [
        "print(X_train.shape), print(y_train.shape)"
      ],
      "execution_count": null,
      "outputs": [
        {
          "output_type": "stream",
          "text": [
            "(716, 100)\n",
            "(716,)\n"
          ],
          "name": "stdout"
        },
        {
          "output_type": "execute_result",
          "data": {
            "text/plain": [
              "(None, None)"
            ]
          },
          "metadata": {
            "tags": []
          },
          "execution_count": 283
        }
      ]
    },
    {
      "cell_type": "code",
      "metadata": {
        "colab": {
          "base_uri": "https://localhost:8080/"
        },
        "id": "qcu77jM9JFVM",
        "outputId": "8c400f42-d994-4af8-d646-706fc7891d41"
      },
      "source": [
        "print(X_test.shape), print(ytest.shape)"
      ],
      "execution_count": null,
      "outputs": [
        {
          "output_type": "stream",
          "text": [
            "(339, 100)\n",
            "(339,)\n"
          ],
          "name": "stdout"
        },
        {
          "output_type": "execute_result",
          "data": {
            "text/plain": [
              "(None, None)"
            ]
          },
          "metadata": {
            "tags": []
          },
          "execution_count": 284
        }
      ]
    },
    {
      "cell_type": "code",
      "metadata": {
        "id": "x_l-e7WoJId5"
      },
      "source": [
        "# reshape input to be [samples, time steps, features] which is required for LSTM\n",
        "X_train =X_train.reshape(X_train.shape[0],X_train.shape[1] , 1)\n",
        "X_test = X_test.reshape(X_test.shape[0],X_test.shape[1] , 1)"
      ],
      "execution_count": null,
      "outputs": []
    },
    {
      "cell_type": "code",
      "metadata": {
        "id": "vS2VBnjMJOsF"
      },
      "source": [
        "### Create the Stacked LSTM model\n",
        "from tensorflow.keras.models import Sequential\n",
        "from tensorflow.keras.layers import Dense\n",
        "from tensorflow.keras.layers import LSTM"
      ],
      "execution_count": null,
      "outputs": []
    },
    {
      "cell_type": "code",
      "metadata": {
        "id": "CfRV7R14JQ0o"
      },
      "source": [
        "model=Sequential()\n",
        "model.add(LSTM(50,return_sequences=True,input_shape=(time_step,1)))\n",
        "model.add(LSTM(50,return_sequences=True))\n",
        "model.add(LSTM(50))\n",
        "model.add(Dense(1))\n",
        "model.compile(loss='mean_squared_error',optimizer='adam')\n"
      ],
      "execution_count": null,
      "outputs": []
    },
    {
      "cell_type": "code",
      "metadata": {
        "id": "8vGHiKdSJTvI",
        "colab": {
          "base_uri": "https://localhost:8080/"
        },
        "outputId": "00a6fd67-87f1-4965-9cf2-8c5f232e9130"
      },
      "source": [
        "model.fit(X_train,y_train,validation_data=(X_test,ytest),epochs=10,batch_size=64,verbose=1)\n"
      ],
      "execution_count": null,
      "outputs": [
        {
          "output_type": "stream",
          "text": [
            "Train on 716 samples, validate on 339 samples\n",
            "Epoch 1/10\n",
            "716/716 [==============================] - 8s 11ms/sample - loss: 0.0279 - val_loss: 0.0378\n",
            "Epoch 2/10\n",
            "716/716 [==============================] - 5s 7ms/sample - loss: 0.0055 - val_loss: 0.0123\n",
            "Epoch 3/10\n",
            "716/716 [==============================] - 5s 7ms/sample - loss: 0.0021 - val_loss: 0.0123\n",
            "Epoch 4/10\n",
            "716/716 [==============================] - 5s 7ms/sample - loss: 9.2969e-04 - val_loss: 0.0044\n",
            "Epoch 5/10\n",
            "716/716 [==============================] - 5s 7ms/sample - loss: 7.6433e-04 - val_loss: 0.0036\n",
            "Epoch 6/10\n",
            "716/716 [==============================] - 5s 7ms/sample - loss: 5.9715e-04 - val_loss: 0.0028\n",
            "Epoch 7/10\n",
            "716/716 [==============================] - 5s 7ms/sample - loss: 5.4905e-04 - val_loss: 0.0027\n",
            "Epoch 8/10\n",
            "716/716 [==============================] - 5s 7ms/sample - loss: 5.2351e-04 - val_loss: 0.0048\n",
            "Epoch 9/10\n",
            "716/716 [==============================] - 5s 7ms/sample - loss: 5.2345e-04 - val_loss: 0.0052\n",
            "Epoch 10/10\n",
            "716/716 [==============================] - 5s 7ms/sample - loss: 5.2239e-04 - val_loss: 0.0065\n"
          ],
          "name": "stdout"
        },
        {
          "output_type": "execute_result",
          "data": {
            "text/plain": [
              "<tensorflow.python.keras.callbacks.History at 0x7feaa30d2810>"
            ]
          },
          "metadata": {
            "tags": []
          },
          "execution_count": 288
        }
      ]
    },
    {
      "cell_type": "code",
      "metadata": {
        "id": "TwAj31ptJwF4"
      },
      "source": [
        "train_predict=model.predict(X_train)\n",
        "test_predict=model.predict(X_test)"
      ],
      "execution_count": null,
      "outputs": []
    },
    {
      "cell_type": "code",
      "metadata": {
        "id": "HMcvFgQDJ3r-"
      },
      "source": [
        "##Transformback to original form\n",
        "train_predict=scaler.inverse_transform(train_predict)\n",
        "test_predict=scaler.inverse_transform(test_predict)"
      ],
      "execution_count": null,
      "outputs": []
    },
    {
      "cell_type": "code",
      "metadata": {
        "id": "AVqXcVgFZW-p",
        "colab": {
          "base_uri": "https://localhost:8080/"
        },
        "outputId": "1e4fc6b2-2bee-4ad2-9ad7-c0e7d3118bb7"
      },
      "source": [
        "### Calculate RMSE performance metrics\n",
        "import math\n",
        "from sklearn.metrics import mean_squared_error\n",
        "math.sqrt(mean_squared_error(y_train,train_predict))\n"
      ],
      "execution_count": null,
      "outputs": [
        {
          "output_type": "execute_result",
          "data": {
            "text/plain": [
              "1402.5223193341333"
            ]
          },
          "metadata": {
            "tags": []
          },
          "execution_count": 291
        }
      ]
    },
    {
      "cell_type": "code",
      "metadata": {
        "id": "kkTfhHNSJ-U4",
        "colab": {
          "base_uri": "https://localhost:8080/"
        },
        "outputId": "1fa3f0e6-db3a-404f-87dc-9fb7171f7882"
      },
      "source": [
        "### Test Data RMSE\n",
        "math.sqrt(mean_squared_error(ytest,test_predict))"
      ],
      "execution_count": null,
      "outputs": [
        {
          "output_type": "execute_result",
          "data": {
            "text/plain": [
              "2676.524780998528"
            ]
          },
          "metadata": {
            "tags": []
          },
          "execution_count": 292
        }
      ]
    },
    {
      "cell_type": "code",
      "metadata": {
        "id": "Vr4BoI_tKHb2",
        "colab": {
          "base_uri": "https://localhost:8080/",
          "height": 592
        },
        "outputId": "78c9aefe-79c0-4e8a-b667-8b429670457e"
      },
      "source": [
        "### Plotting \n",
        "# shift train predictions for plotting\n",
        "look_back=100\n",
        "trainPredictPlot = np.empty_like(df1)\n",
        "trainPredictPlot[:, :] = np.nan\n",
        "trainPredictPlot[look_back:len(train_predict)+look_back, :] = train_predict\n",
        "# shift test predictions for plotting\n",
        "testPredictPlot = np.empty_like(df1)\n",
        "testPredictPlot[:, :] = np.nan\n",
        "testPredictPlot[len(train_predict)+(look_back*2)+1:len(df1)-1, :] = test_predict\n",
        "# plot baseline and predictions\n",
        "plt.plot(scaler.inverse_transform(df1))\n",
        "plt.plot(trainPredictPlot)\n",
        "plt.plot(testPredictPlot)\n",
        "plt.show()"
      ],
      "execution_count": null,
      "outputs": [
        {
          "output_type": "display_data",
          "data": {
            "image/png": "[encoded data removed]",
            "text/plain": [
              "<Figure size 1440x720 with 1 Axes>"
            ]
          },
          "metadata": {
            "tags": [],
            "needs_background": "light"
          }
        }
      ]
    },
    {
      "cell_type": "code",
      "metadata": {
        "id": "v9cqt4kWNUJz",
        "colab": {
          "base_uri": "https://localhost:8080/"
        },
        "outputId": "3a719370-3ff0-4cac-cfcd-5ca5e5a53303"
      },
      "source": [
        "x_input=test[test_size-time_step:].reshape(1,-1)\n",
        "x_input.shape"
      ],
      "execution_count": null,
      "outputs": [
        {
          "output_type": "execute_result",
          "data": {
            "text/plain": [
              "(1, 100)"
            ]
          },
          "metadata": {
            "tags": []
          },
          "execution_count": 294
        }
      ]
    },
    {
      "cell_type": "code",
      "metadata": {
        "id": "hd1uySMDOOlZ",
        "colab": {
          "base_uri": "https://localhost:8080/"
        },
        "outputId": "36baa84b-95fb-408b-fa96-f28ee2c5ae12"
      },
      "source": [
        "temp_input=list(x_input)\n",
        "temp_input=temp_input[0].tolist()\n",
        "temp_input\n"
      ],
      "execution_count": null,
      "outputs": [
        {
          "output_type": "execute_result",
          "data": {
            "text/plain": [
              "[0.8723551275995871,\n",
              " 0.8728003606432548,\n",
              " 0.8889999972136042,\n",
              " 0.9020441807464126,\n",
              " 0.8908268679046711,\n",
              " 0.885871028805324,\n",
              " 0.8874805883633068,\n",
              " 0.8861059818113894,\n",
              " 0.8819894084454689,\n",
              " 0.9006625430990134,\n",
              " 0.928079492511104,\n",
              " 0.9267897744760027,\n",
              " 0.9090423898324356,\n",
              " 0.8899434756690021,\n",
              " 0.8850706703161326,\n",
              " 0.8745105959973758,\n",
              " 0.8806713941203099,\n",
              " 0.8752473313410047,\n",
              " 0.863505288634951,\n",
              " 0.8567491065833384,\n",
              " 0.8715706855416627,\n",
              " 0.8691961376362127,\n",
              " 0.8584416998877993,\n",
              " 0.8590212103180732,\n",
              " 0.8967950709725263,\n",
              " 0.9291837759152315,\n",
              " 0.923344501470674,\n",
              " 0.9236925528878528,\n",
              " 0.9261360727021732,\n",
              " 0.914250910206591,\n",
              " 0.910146630127022,\n",
              " 0.8909187440540711,\n",
              " 0.9198498397722332,\n",
              " 0.9558180087111128,\n",
              " 0.9476466736407152,\n",
              " 0.9268215644056741,\n",
              " 0.9365318049696891,\n",
              " 0.9346395856913454,\n",
              " 0.9287809439320915,\n",
              " 0.917492933739765,\n",
              " 0.9118586771419397,\n",
              " 0.9071766982928937,\n",
              " 0.9157155814237898,\n",
              " 0.9189876265120576,\n",
              " 0.9245583030738618,\n",
              " 0.9187826950610856,\n",
              " 0.8879222844811412,\n",
              " 0.8691501994731736,\n",
              " 0.8688462745582373,\n",
              " 0.8563745707135775,\n",
              " 0.8445582935544269,\n",
              " 0.8601784628040434,\n",
              " 0.8607244147533903,\n",
              " 0.8346007204789123,\n",
              " 0.8170706471451077,\n",
              " 0.7970070753741045,\n",
              " 0.8192509178399834,\n",
              " 0.8334222459079075,\n",
              " 0.8423268656151834,\n",
              " 0.8543763270524658,\n",
              " 0.8419682030671485,\n",
              " 0.8366413652005518,\n",
              " 0.8526201535353055,\n",
              " 0.8594222739266357,\n",
              " 0.8414646523550078,\n",
              " 0.8330353305327127,\n",
              " 0.8494152255855705,\n",
              " 0.8699487895877873,\n",
              " 0.8598091893018305,\n",
              " 0.8423992882308051,\n",
              " 0.8257455760371872,\n",
              " 0.8375901060234978,\n",
              " 0.835346298402142,\n",
              " 0.8485671603820844,\n",
              " 0.8655565443107684,\n",
              " 0.8866183751031309,\n",
              " 0.8984823587998982,\n",
              " 0.9095971841847046,\n",
              " 0.9253639672168201,\n",
              " 0.9332437999872565,\n",
              " 0.9482773846015762,\n",
              " 0.9626660670888039,\n",
              " 0.9454399184932569,\n",
              " 0.9487738614620504,\n",
              " 0.9511396100741196,\n",
              " 0.957093621975744,\n",
              " 0.9399381705541039,\n",
              " 0.9342279542381458,\n",
              " 0.9355795270442318,\n",
              " 0.9372014231747856,\n",
              " 0.9506095314464984,\n",
              " 0.968033580750892,\n",
              " 0.9780812616012291,\n",
              " 0.9841890475327795,\n",
              " 0.9960353460703457,\n",
              " 0.9682703021315351,\n",
              " 0.9295353211487023,\n",
              " 0.9258162742888327,\n",
              " 0.915664294497442,\n",
              " 0.9259752677534439]"
            ]
          },
          "metadata": {
            "tags": []
          },
          "execution_count": 295
        }
      ]
    },
    {
      "cell_type": "code",
      "metadata": {
        "id": "vAK5juH0ORZ9",
        "colab": {
          "base_uri": "https://localhost:8080/"
        },
        "outputId": "346e320b-1ee1-47ab-c06c-b98323646909"
      },
      "source": [
        "# demonstrate prediction for next 10 days\n",
        "from numpy import array\n",
        "days=30\n",
        "lst_output=[]\n",
        "n_steps=100\n",
        "i=0\n",
        "while(i<days):\n",
        "    \n",
        "    if(len(temp_input)>100):\n",
        "        #print(temp_input)\n",
        "        x_input=np.array(temp_input[1:])\n",
        "        # print(\"{} day input {}\".format(i,x_input))\n",
        "        x_input=x_input.reshape(1,-1)\n",
        "        x_input = x_input.reshape((1, n_steps, 1))\n",
        "        #print(x_input)\n",
        "        yhat = model.predict(x_input, verbose=0)\n",
        "        # print(\"{} day output {}\".format(i,yhat))\n",
        "        temp_input.extend(yhat[0].tolist())\n",
        "        temp_input=temp_input[1:]\n",
        "        #print(temp_input)\n",
        "        lst_output.extend(yhat.tolist())\n",
        "        i=i+1\n",
        "    else:\n",
        "        x_input = x_input.reshape((1, n_steps,1))\n",
        "        print(x_input.shape)\n",
        "        yhat = model.predict(x_input, verbose=0)\n",
        "        # print(yhat[0])\n",
        "        temp_input.extend(yhat[0].tolist())\n",
        "        # print(len(temp_input))\n",
        "        lst_output.extend(yhat.tolist())\n",
        "        i=i+1\n",
        "    \n",
        "\n",
        "print(lst_output)"
      ],
      "execution_count": null,
      "outputs": [
        {
          "output_type": "stream",
          "text": [
            "(1, 100, 1)\n",
            "[[0.8651318550109863], [0.8638970851898193], [0.8614537715911865], [0.857948362827301], [0.8535947799682617], [0.848615825176239], [0.8432124257087708], [0.8375502228736877], [0.8317581415176392], [0.8259299993515015], [0.8201315402984619], [0.8144057393074036], [0.8087786436080933], [0.8032644987106323], [0.7978696823120117], [0.7925950288772583], [0.7874387502670288], [0.7823969125747681], [0.7774653434753418], [0.772639274597168], [0.7679139971733093], [0.7632854580879211], [0.7587496638298035], [0.7543029189109802], [0.7499419450759888], [0.7456638813018799], [0.7414657473564148], [0.7373449206352234], [0.7332988977432251], [0.7293255925178528]]\n"
          ],
          "name": "stdout"
        }
      ]
    },
    {
      "cell_type": "code",
      "metadata": {
        "id": "5Vh78OkPOabI",
        "colab": {
          "base_uri": "https://localhost:8080/"
        },
        "outputId": "1a41f512-8e1f-496b-8d9d-d9d95771af7c"
      },
      "source": [
        "day_new=np.arange(1,time_step+1)\n",
        "day_pred=np.arange(time_step+1,time_step+days+1)\n",
        "print(day_pred)"
      ],
      "execution_count": null,
      "outputs": [
        {
          "output_type": "stream",
          "text": [
            "[101 102 103 104 105 106 107 108 109 110 111 112 113 114 115 116 117 118 119 120 121 122 123 124 125 126 127 128 129\n",
            " 130]\n"
          ],
          "name": "stdout"
        }
      ]
    },
    {
      "cell_type": "code",
      "metadata": {
        "id": "DCgeQkg_OdCw",
        "colab": {
          "base_uri": "https://localhost:8080/",
          "height": 609
        },
        "outputId": "d4fc3c08-3e19-4829-f09d-c4d87defcc13"
      },
      "source": [
        "plt.plot(day_new,scaler.inverse_transform(df1[train_size+test_size-time_step:]))\n",
        "plt.plot(day_pred,scaler.inverse_transform(lst_output))"
      ],
      "execution_count": null,
      "outputs": [
        {
          "output_type": "execute_result",
          "data": {
            "text/plain": [
              "[<matplotlib.lines.Line2D at 0x7feaa2953750>]"
            ]
          },
          "metadata": {
            "tags": []
          },
          "execution_count": 298
        },
        {
          "output_type": "display_data",
          "data": {
            "image/png": "[encoded data removed]",
            "text/plain": [
              "<Figure size 1440x720 with 1 Axes>"
            ]
          },
          "metadata": {
            "tags": [],
            "needs_background": "light"
          }
        }
      ]
    },
    {
      "cell_type": "markdown",
      "metadata": {
        "id": "K8LyjDwoJPO4"
      },
      "source": [
        "The LSTM model can be tuned for various parameters such as changing the number of LSTM layers, adding dropout value or increasing the number of epochs.\n",
        "\n",
        "Stock price is affected by the news about the company and other factors like merger/demerger of the companies, economic conditions etc. There are certain intangible factors as well which can often be impossible to predict beforehand."
      ]
    },
    {
      "cell_type": "markdown",
      "metadata": {
        "id": "y9eVHL_mRg0i"
      },
      "source": [
        "**Linear Regression**"
      ]
    },
    {
      "cell_type": "code",
      "metadata": {
        "id": "lE8buWewRqE6"
      },
      "source": [
        "data = pd.read_csv(os.path.join(f'{googlepath}',f'{file_name}'),delimiter=',',usecols=['Date','Open','High','Low','Close'])"
      ],
      "execution_count": null,
      "outputs": []
    },
    {
      "cell_type": "code",
      "metadata": {
        "id": "yoH14XTJMIbO",
        "colab": {
          "base_uri": "https://localhost:8080/",
          "height": 402
        },
        "outputId": "9c2a26e3-0e28-4648-ac5c-7f0cba13044a"
      },
      "source": [
        "high_prices = data.loc[:,'High'].to_numpy()\n",
        "low_prices = data.loc[:,'Low'].to_numpy()\n",
        "avg_prices = (high_prices+low_prices)/2.0\n",
        "data['avg_prices'] = avg_prices\n",
        "data"
      ],
      "execution_count": null,
      "outputs": [
        {
          "output_type": "execute_result",
          "data": {
            "text/html": [
              "<div>\n",
              "<style scoped>\n",
              "    .dataframe tbody tr th:only-of-type {\n",
              "        vertical-align: middle;\n",
              "    }\n",
              "\n",
              "    .dataframe tbody tr th {\n",
              "        vertical-align: top;\n",
              "    }\n",
              "\n",
              "    .dataframe thead th {\n",
              "        text-align: right;\n",
              "    }\n",
              "</style>\n",
              "<table border=\"1\" class=\"dataframe\">\n",
              "  <thead>\n",
              "    <tr style=\"text-align: right;\">\n",
              "      <th></th>\n",
              "      <th>Date</th>\n",
              "      <th>Open</th>\n",
              "      <th>High</th>\n",
              "      <th>Low</th>\n",
              "      <th>Close</th>\n",
              "      <th>avg_prices</th>\n",
              "    </tr>\n",
              "  </thead>\n",
              "  <tbody>\n",
              "    <tr>\n",
              "      <th>0</th>\n",
              "      <td>2016-05-11</td>\n",
              "      <td>705.789978</td>\n",
              "      <td>719.000000</td>\n",
              "      <td>701.650024</td>\n",
              "      <td>713.229980</td>\n",
              "      <td>710.325012</td>\n",
              "    </tr>\n",
              "    <tr>\n",
              "      <th>1</th>\n",
              "      <td>2016-05-12</td>\n",
              "      <td>717.380005</td>\n",
              "      <td>722.450012</td>\n",
              "      <td>711.510010</td>\n",
              "      <td>717.929993</td>\n",
              "      <td>716.980011</td>\n",
              "    </tr>\n",
              "    <tr>\n",
              "      <th>2</th>\n",
              "      <td>2016-05-13</td>\n",
              "      <td>714.640015</td>\n",
              "      <td>719.250000</td>\n",
              "      <td>706.510010</td>\n",
              "      <td>709.919983</td>\n",
              "      <td>712.880005</td>\n",
              "    </tr>\n",
              "    <tr>\n",
              "      <th>3</th>\n",
              "      <td>2016-05-16</td>\n",
              "      <td>710.130005</td>\n",
              "      <td>713.250000</td>\n",
              "      <td>700.280029</td>\n",
              "      <td>710.659973</td>\n",
              "      <td>706.765015</td>\n",
              "    </tr>\n",
              "    <tr>\n",
              "      <th>4</th>\n",
              "      <td>2016-05-17</td>\n",
              "      <td>709.900024</td>\n",
              "      <td>714.469971</td>\n",
              "      <td>693.909973</td>\n",
              "      <td>695.270020</td>\n",
              "      <td>704.189972</td>\n",
              "    </tr>\n",
              "    <tr>\n",
              "      <th>...</th>\n",
              "      <td>...</td>\n",
              "      <td>...</td>\n",
              "      <td>...</td>\n",
              "      <td>...</td>\n",
              "      <td>...</td>\n",
              "      <td>...</td>\n",
              "    </tr>\n",
              "    <tr>\n",
              "      <th>1253</th>\n",
              "      <td>2021-05-04</td>\n",
              "      <td>3356.189941</td>\n",
              "      <td>3367.979980</td>\n",
              "      <td>3272.129883</td>\n",
              "      <td>3311.870117</td>\n",
              "      <td>3320.054931</td>\n",
              "    </tr>\n",
              "    <tr>\n",
              "      <th>1254</th>\n",
              "      <td>2021-05-05</td>\n",
              "      <td>3338.860107</td>\n",
              "      <td>3354.699951</td>\n",
              "      <td>3264.360107</td>\n",
              "      <td>3270.540039</td>\n",
              "      <td>3309.530029</td>\n",
              "    </tr>\n",
              "    <tr>\n",
              "      <th>1255</th>\n",
              "      <td>2021-05-06</td>\n",
              "      <td>3270.000000</td>\n",
              "      <td>3314.399902</td>\n",
              "      <td>3247.199951</td>\n",
              "      <td>3306.370117</td>\n",
              "      <td>3280.799926</td>\n",
              "    </tr>\n",
              "    <tr>\n",
              "      <th>1256</th>\n",
              "      <td>2021-05-07</td>\n",
              "      <td>3319.090088</td>\n",
              "      <td>3330.889893</td>\n",
              "      <td>3289.070068</td>\n",
              "      <td>3291.610107</td>\n",
              "      <td>3309.979981</td>\n",
              "    </tr>\n",
              "    <tr>\n",
              "      <th>1257</th>\n",
              "      <td>2021-05-10</td>\n",
              "      <td>3282.320068</td>\n",
              "      <td>3283.000000</td>\n",
              "      <td>3190.000000</td>\n",
              "      <td>3190.489990</td>\n",
              "      <td>3236.500000</td>\n",
              "    </tr>\n",
              "  </tbody>\n",
              "</table>\n",
              "<p>1258 rows × 6 columns</p>\n",
              "</div>"
            ],
            "text/plain": [
              "            Date         Open  ...        Close   avg_prices\n",
              "0     2016-05-11   705.789978  ...   713.229980   710.325012\n",
              "1     2016-05-12   717.380005  ...   717.929993   716.980011\n",
              "2     2016-05-13   714.640015  ...   709.919983   712.880005\n",
              "3     2016-05-16   710.130005  ...   710.659973   706.765015\n",
              "4     2016-05-17   709.900024  ...   695.270020   704.189972\n",
              "...          ...          ...  ...          ...          ...\n",
              "1253  2021-05-04  3356.189941  ...  3311.870117  3320.054931\n",
              "1254  2021-05-05  3338.860107  ...  3270.540039  3309.530029\n",
              "1255  2021-05-06  3270.000000  ...  3306.370117  3280.799926\n",
              "1256  2021-05-07  3319.090088  ...  3291.610107  3309.979981\n",
              "1257  2021-05-10  3282.320068  ...  3190.489990  3236.500000\n",
              "\n",
              "[1258 rows x 6 columns]"
            ]
          },
          "metadata": {
            "tags": []
          },
          "execution_count": 300
        }
      ]
    },
    {
      "cell_type": "code",
      "metadata": {
        "id": "ZxJXWyUFRuYa"
      },
      "source": [
        "x = np.array(data.index).reshape(-1, 1)\n",
        "y = data['avg_prices']"
      ],
      "execution_count": null,
      "outputs": []
    },
    {
      "cell_type": "code",
      "metadata": {
        "id": "QsqP3hDWRwCf"
      },
      "source": [
        "from sklearn.linear_model import LinearRegression\n",
        "linreg = LinearRegression().fit(x, y)\n",
        "linreg.score(x, y)\n",
        "predictions = linreg.predict(x)"
      ],
      "execution_count": null,
      "outputs": []
    },
    {
      "cell_type": "code",
      "metadata": {
        "id": "R5BdYFN1RxqV",
        "colab": {
          "base_uri": "https://localhost:8080/",
          "height": 351
        },
        "outputId": "5c4f01a8-be6d-4835-ea7e-46a759838a66"
      },
      "source": [
        "plt.figure(figsize=(15,5))\n",
        "plt.ylabel('Average price in USD')\n",
        "plt.xlabel('Days')\n",
        "plt.plot(data['avg_prices'])\n",
        "plt.plot(data.index, predictions)"
      ],
      "execution_count": null,
      "outputs": [
        {
          "output_type": "execute_result",
          "data": {
            "text/plain": [
              "[<matplotlib.lines.Line2D at 0x7feaa29207d0>]"
            ]
          },
          "metadata": {
            "tags": []
          },
          "execution_count": 303
        },
        {
          "output_type": "display_data",
          "data": {
            "image/png": "[encoded data removed]",
            "text/plain": [
              "<Figure size 1080x360 with 1 Axes>"
            ]
          },
          "metadata": {
            "tags": [],
            "needs_background": "light"
          }
        }
      ]
    },
    {
      "cell_type": "code",
      "metadata": {
        "id": "dpqUbNVlSbL7",
        "colab": {
          "base_uri": "https://localhost:8080/",
          "height": 195
        },
        "outputId": "25dec0a4-d06d-4495-f008-14d0245200fa"
      },
      "source": [
        "rcParams['figure.figsize'] = 20,10\n",
        "\n",
        "#normalizing data\n",
        "scaler = MinMaxScaler(feature_range=(0, 1))\n",
        "data = pd.read_csv(os.path.join(f'{googlepath}',f'{file_name}'),delimiter=',',usecols=['Date','Open','High','Low','Close'])\n",
        "data.head()"
      ],
      "execution_count": null,
      "outputs": [
        {
          "output_type": "execute_result",
          "data": {
            "text/html": [
              "<div>\n",
              "<style scoped>\n",
              "    .dataframe tbody tr th:only-of-type {\n",
              "        vertical-align: middle;\n",
              "    }\n",
              "\n",
              "    .dataframe tbody tr th {\n",
              "        vertical-align: top;\n",
              "    }\n",
              "\n",
              "    .dataframe thead th {\n",
              "        text-align: right;\n",
              "    }\n",
              "</style>\n",
              "<table border=\"1\" class=\"dataframe\">\n",
              "  <thead>\n",
              "    <tr style=\"text-align: right;\">\n",
              "      <th></th>\n",
              "      <th>Date</th>\n",
              "      <th>Open</th>\n",
              "      <th>High</th>\n",
              "      <th>Low</th>\n",
              "      <th>Close</th>\n",
              "    </tr>\n",
              "  </thead>\n",
              "  <tbody>\n",
              "    <tr>\n",
              "      <th>0</th>\n",
              "      <td>2016-05-11</td>\n",
              "      <td>705.789978</td>\n",
              "      <td>719.000000</td>\n",
              "      <td>701.650024</td>\n",
              "      <td>713.229980</td>\n",
              "    </tr>\n",
              "    <tr>\n",
              "      <th>1</th>\n",
              "      <td>2016-05-12</td>\n",
              "      <td>717.380005</td>\n",
              "      <td>722.450012</td>\n",
              "      <td>711.510010</td>\n",
              "      <td>717.929993</td>\n",
              "    </tr>\n",
              "    <tr>\n",
              "      <th>2</th>\n",
              "      <td>2016-05-13</td>\n",
              "      <td>714.640015</td>\n",
              "      <td>719.250000</td>\n",
              "      <td>706.510010</td>\n",
              "      <td>709.919983</td>\n",
              "    </tr>\n",
              "    <tr>\n",
              "      <th>3</th>\n",
              "      <td>2016-05-16</td>\n",
              "      <td>710.130005</td>\n",
              "      <td>713.250000</td>\n",
              "      <td>700.280029</td>\n",
              "      <td>710.659973</td>\n",
              "    </tr>\n",
              "    <tr>\n",
              "      <th>4</th>\n",
              "      <td>2016-05-17</td>\n",
              "      <td>709.900024</td>\n",
              "      <td>714.469971</td>\n",
              "      <td>693.909973</td>\n",
              "      <td>695.270020</td>\n",
              "    </tr>\n",
              "  </tbody>\n",
              "</table>\n",
              "</div>"
            ],
            "text/plain": [
              "         Date        Open        High         Low       Close\n",
              "0  2016-05-11  705.789978  719.000000  701.650024  713.229980\n",
              "1  2016-05-12  717.380005  722.450012  711.510010  717.929993\n",
              "2  2016-05-13  714.640015  719.250000  706.510010  709.919983\n",
              "3  2016-05-16  710.130005  713.250000  700.280029  710.659973\n",
              "4  2016-05-17  709.900024  714.469971  693.909973  695.270020"
            ]
          },
          "metadata": {
            "tags": []
          },
          "execution_count": 304
        }
      ]
    },
    {
      "cell_type": "code",
      "metadata": {
        "id": "-239uC5-XoJF",
        "colab": {
          "base_uri": "https://localhost:8080/",
          "height": 402
        },
        "outputId": "07595d56-2a04-49f1-cd87-4866aac1957f"
      },
      "source": [
        "high_prices = data.loc[:,'High'].to_numpy()\n",
        "low_prices = data.loc[:,'Low'].to_numpy()\n",
        "avg_prices = (high_prices+low_prices)/2.0\n",
        "data['avg_prices'] = avg_prices\n",
        "data"
      ],
      "execution_count": null,
      "outputs": [
        {
          "output_type": "execute_result",
          "data": {
            "text/html": [
              "<div>\n",
              "<style scoped>\n",
              "    .dataframe tbody tr th:only-of-type {\n",
              "        vertical-align: middle;\n",
              "    }\n",
              "\n",
              "    .dataframe tbody tr th {\n",
              "        vertical-align: top;\n",
              "    }\n",
              "\n",
              "    .dataframe thead th {\n",
              "        text-align: right;\n",
              "    }\n",
              "</style>\n",
              "<table border=\"1\" class=\"dataframe\">\n",
              "  <thead>\n",
              "    <tr style=\"text-align: right;\">\n",
              "      <th></th>\n",
              "      <th>Date</th>\n",
              "      <th>Open</th>\n",
              "      <th>High</th>\n",
              "      <th>Low</th>\n",
              "      <th>Close</th>\n",
              "      <th>avg_prices</th>\n",
              "    </tr>\n",
              "  </thead>\n",
              "  <tbody>\n",
              "    <tr>\n",
              "      <th>0</th>\n",
              "      <td>2016-05-11</td>\n",
              "      <td>705.789978</td>\n",
              "      <td>719.000000</td>\n",
              "      <td>701.650024</td>\n",
              "      <td>713.229980</td>\n",
              "      <td>710.325012</td>\n",
              "    </tr>\n",
              "    <tr>\n",
              "      <th>1</th>\n",
              "      <td>2016-05-12</td>\n",
              "      <td>717.380005</td>\n",
              "      <td>722.450012</td>\n",
              "      <td>711.510010</td>\n",
              "      <td>717.929993</td>\n",
              "      <td>716.980011</td>\n",
              "    </tr>\n",
              "    <tr>\n",
              "      <th>2</th>\n",
              "      <td>2016-05-13</td>\n",
              "      <td>714.640015</td>\n",
              "      <td>719.250000</td>\n",
              "      <td>706.510010</td>\n",
              "      <td>709.919983</td>\n",
              "      <td>712.880005</td>\n",
              "    </tr>\n",
              "    <tr>\n",
              "      <th>3</th>\n",
              "      <td>2016-05-16</td>\n",
              "      <td>710.130005</td>\n",
              "      <td>713.250000</td>\n",
              "      <td>700.280029</td>\n",
              "      <td>710.659973</td>\n",
              "      <td>706.765015</td>\n",
              "    </tr>\n",
              "    <tr>\n",
              "      <th>4</th>\n",
              "      <td>2016-05-17</td>\n",
              "      <td>709.900024</td>\n",
              "      <td>714.469971</td>\n",
              "      <td>693.909973</td>\n",
              "      <td>695.270020</td>\n",
              "      <td>704.189972</td>\n",
              "    </tr>\n",
              "    <tr>\n",
              "      <th>...</th>\n",
              "      <td>...</td>\n",
              "      <td>...</td>\n",
              "      <td>...</td>\n",
              "      <td>...</td>\n",
              "      <td>...</td>\n",
              "      <td>...</td>\n",
              "    </tr>\n",
              "    <tr>\n",
              "      <th>1253</th>\n",
              "      <td>2021-05-04</td>\n",
              "      <td>3356.189941</td>\n",
              "      <td>3367.979980</td>\n",
              "      <td>3272.129883</td>\n",
              "      <td>3311.870117</td>\n",
              "      <td>3320.054931</td>\n",
              "    </tr>\n",
              "    <tr>\n",
              "      <th>1254</th>\n",
              "      <td>2021-05-05</td>\n",
              "      <td>3338.860107</td>\n",
              "      <td>3354.699951</td>\n",
              "      <td>3264.360107</td>\n",
              "      <td>3270.540039</td>\n",
              "      <td>3309.530029</td>\n",
              "    </tr>\n",
              "    <tr>\n",
              "      <th>1255</th>\n",
              "      <td>2021-05-06</td>\n",
              "      <td>3270.000000</td>\n",
              "      <td>3314.399902</td>\n",
              "      <td>3247.199951</td>\n",
              "      <td>3306.370117</td>\n",
              "      <td>3280.799926</td>\n",
              "    </tr>\n",
              "    <tr>\n",
              "      <th>1256</th>\n",
              "      <td>2021-05-07</td>\n",
              "      <td>3319.090088</td>\n",
              "      <td>3330.889893</td>\n",
              "      <td>3289.070068</td>\n",
              "      <td>3291.610107</td>\n",
              "      <td>3309.979981</td>\n",
              "    </tr>\n",
              "    <tr>\n",
              "      <th>1257</th>\n",
              "      <td>2021-05-10</td>\n",
              "      <td>3282.320068</td>\n",
              "      <td>3283.000000</td>\n",
              "      <td>3190.000000</td>\n",
              "      <td>3190.489990</td>\n",
              "      <td>3236.500000</td>\n",
              "    </tr>\n",
              "  </tbody>\n",
              "</table>\n",
              "<p>1258 rows × 6 columns</p>\n",
              "</div>"
            ],
            "text/plain": [
              "            Date         Open  ...        Close   avg_prices\n",
              "0     2016-05-11   705.789978  ...   713.229980   710.325012\n",
              "1     2016-05-12   717.380005  ...   717.929993   716.980011\n",
              "2     2016-05-13   714.640015  ...   709.919983   712.880005\n",
              "3     2016-05-16   710.130005  ...   710.659973   706.765015\n",
              "4     2016-05-17   709.900024  ...   695.270020   704.189972\n",
              "...          ...          ...  ...          ...          ...\n",
              "1253  2021-05-04  3356.189941  ...  3311.870117  3320.054931\n",
              "1254  2021-05-05  3338.860107  ...  3270.540039  3309.530029\n",
              "1255  2021-05-06  3270.000000  ...  3306.370117  3280.799926\n",
              "1256  2021-05-07  3319.090088  ...  3291.610107  3309.979981\n",
              "1257  2021-05-10  3282.320068  ...  3190.489990  3236.500000\n",
              "\n",
              "[1258 rows x 6 columns]"
            ]
          },
          "metadata": {
            "tags": []
          },
          "execution_count": 305
        }
      ]
    },
    {
      "cell_type": "code",
      "metadata": {
        "id": "io75N1LiSdD3",
        "colab": {
          "base_uri": "https://localhost:8080/",
          "height": 195
        },
        "outputId": "d2c2ddc3-a4d9-4d9c-e3b6-b6291404c19e"
      },
      "source": [
        "#setting index as date values\n",
        "data['Date'] = pd.to_datetime(data.Date,format='%Y-%m-%d')\n",
        "data.index = data['Date']\n",
        "dataset = data.sort_index(ascending=True, axis=0)\n",
        "\n",
        "#creating a new dataset with Date and average prices\n",
        "new_data = pd.DataFrame(index=range(0,len(data)),columns=['Date', 'avg_prices'])\n",
        "for i in range(0,len(dataset)):\n",
        "    new_data['Date'][i] = data['Date'][i]\n",
        "    new_data['avg_prices'][i] = data['avg_prices'][i]\n",
        "new_data.head(5)"
      ],
      "execution_count": 314,
      "outputs": [
        {
          "output_type": "execute_result",
          "data": {
            "text/html": [
              "<div>\n",
              "<style scoped>\n",
              "    .dataframe tbody tr th:only-of-type {\n",
              "        vertical-align: middle;\n",
              "    }\n",
              "\n",
              "    .dataframe tbody tr th {\n",
              "        vertical-align: top;\n",
              "    }\n",
              "\n",
              "    .dataframe thead th {\n",
              "        text-align: right;\n",
              "    }\n",
              "</style>\n",
              "<table border=\"1\" class=\"dataframe\">\n",
              "  <thead>\n",
              "    <tr style=\"text-align: right;\">\n",
              "      <th></th>\n",
              "      <th>Date</th>\n",
              "      <th>avg_prices</th>\n",
              "    </tr>\n",
              "  </thead>\n",
              "  <tbody>\n",
              "    <tr>\n",
              "      <th>0</th>\n",
              "      <td>2016-05-11 00:00:00</td>\n",
              "      <td>710.325</td>\n",
              "    </tr>\n",
              "    <tr>\n",
              "      <th>1</th>\n",
              "      <td>2016-05-12 00:00:00</td>\n",
              "      <td>716.98</td>\n",
              "    </tr>\n",
              "    <tr>\n",
              "      <th>2</th>\n",
              "      <td>2016-05-13 00:00:00</td>\n",
              "      <td>712.88</td>\n",
              "    </tr>\n",
              "    <tr>\n",
              "      <th>3</th>\n",
              "      <td>2016-05-16 00:00:00</td>\n",
              "      <td>706.765</td>\n",
              "    </tr>\n",
              "    <tr>\n",
              "      <th>4</th>\n",
              "      <td>2016-05-17 00:00:00</td>\n",
              "      <td>704.19</td>\n",
              "    </tr>\n",
              "  </tbody>\n",
              "</table>\n",
              "</div>"
            ],
            "text/plain": [
              "                  Date avg_prices\n",
              "0  2016-05-11 00:00:00    710.325\n",
              "1  2016-05-12 00:00:00     716.98\n",
              "2  2016-05-13 00:00:00     712.88\n",
              "3  2016-05-16 00:00:00    706.765\n",
              "4  2016-05-17 00:00:00     704.19"
            ]
          },
          "metadata": {
            "tags": []
          },
          "execution_count": 314
        }
      ]
    },
    {
      "cell_type": "code",
      "metadata": {
        "id": "p4UvLVO_Sd27",
        "colab": {
          "base_uri": "https://localhost:8080/",
          "height": 249
        },
        "outputId": "8615c2af-e6a3-44be-88f2-79c49b65ab27"
      },
      "source": [
        "#creating features\n",
        "from fastai.tabular import  add_datepart\n",
        "add_datepart(new_data, 'Date')\n",
        "new_data.drop('Elapsed', axis=1, inplace=True) \n",
        "new_data.head(5)"
      ],
      "execution_count": null,
      "outputs": [
        {
          "output_type": "stream",
          "text": [
            "/usr/local/lib/python3.7/dist-packages/fastai/tabular/transform.py:63: FutureWarning: Series.dt.weekofyear and Series.dt.week have been deprecated.  Please use Series.dt.isocalendar().week instead.\n",
            "  for n in attr: df[prefix + n] = getattr(field.dt, n.lower())\n"
          ],
          "name": "stderr"
        },
        {
          "output_type": "execute_result",
          "data": {
            "text/html": [
              "<div>\n",
              "<style scoped>\n",
              "    .dataframe tbody tr th:only-of-type {\n",
              "        vertical-align: middle;\n",
              "    }\n",
              "\n",
              "    .dataframe tbody tr th {\n",
              "        vertical-align: top;\n",
              "    }\n",
              "\n",
              "    .dataframe thead th {\n",
              "        text-align: right;\n",
              "    }\n",
              "</style>\n",
              "<table border=\"1\" class=\"dataframe\">\n",
              "  <thead>\n",
              "    <tr style=\"text-align: right;\">\n",
              "      <th></th>\n",
              "      <th>avg_prices</th>\n",
              "      <th>Year</th>\n",
              "      <th>Month</th>\n",
              "      <th>Week</th>\n",
              "      <th>Day</th>\n",
              "      <th>Dayofweek</th>\n",
              "      <th>Dayofyear</th>\n",
              "      <th>Is_month_end</th>\n",
              "      <th>Is_month_start</th>\n",
              "      <th>Is_quarter_end</th>\n",
              "      <th>Is_quarter_start</th>\n",
              "      <th>Is_year_end</th>\n",
              "      <th>Is_year_start</th>\n",
              "    </tr>\n",
              "  </thead>\n",
              "  <tbody>\n",
              "    <tr>\n",
              "      <th>0</th>\n",
              "      <td>710.325</td>\n",
              "      <td>2016</td>\n",
              "      <td>5</td>\n",
              "      <td>19</td>\n",
              "      <td>11</td>\n",
              "      <td>2</td>\n",
              "      <td>132</td>\n",
              "      <td>False</td>\n",
              "      <td>False</td>\n",
              "      <td>False</td>\n",
              "      <td>False</td>\n",
              "      <td>False</td>\n",
              "      <td>False</td>\n",
              "    </tr>\n",
              "    <tr>\n",
              "      <th>1</th>\n",
              "      <td>716.98</td>\n",
              "      <td>2016</td>\n",
              "      <td>5</td>\n",
              "      <td>19</td>\n",
              "      <td>12</td>\n",
              "      <td>3</td>\n",
              "      <td>133</td>\n",
              "      <td>False</td>\n",
              "      <td>False</td>\n",
              "      <td>False</td>\n",
              "      <td>False</td>\n",
              "      <td>False</td>\n",
              "      <td>False</td>\n",
              "    </tr>\n",
              "    <tr>\n",
              "      <th>2</th>\n",
              "      <td>712.88</td>\n",
              "      <td>2016</td>\n",
              "      <td>5</td>\n",
              "      <td>19</td>\n",
              "      <td>13</td>\n",
              "      <td>4</td>\n",
              "      <td>134</td>\n",
              "      <td>False</td>\n",
              "      <td>False</td>\n",
              "      <td>False</td>\n",
              "      <td>False</td>\n",
              "      <td>False</td>\n",
              "      <td>False</td>\n",
              "    </tr>\n",
              "    <tr>\n",
              "      <th>3</th>\n",
              "      <td>706.765</td>\n",
              "      <td>2016</td>\n",
              "      <td>5</td>\n",
              "      <td>20</td>\n",
              "      <td>16</td>\n",
              "      <td>0</td>\n",
              "      <td>137</td>\n",
              "      <td>False</td>\n",
              "      <td>False</td>\n",
              "      <td>False</td>\n",
              "      <td>False</td>\n",
              "      <td>False</td>\n",
              "      <td>False</td>\n",
              "    </tr>\n",
              "    <tr>\n",
              "      <th>4</th>\n",
              "      <td>704.19</td>\n",
              "      <td>2016</td>\n",
              "      <td>5</td>\n",
              "      <td>20</td>\n",
              "      <td>17</td>\n",
              "      <td>1</td>\n",
              "      <td>138</td>\n",
              "      <td>False</td>\n",
              "      <td>False</td>\n",
              "      <td>False</td>\n",
              "      <td>False</td>\n",
              "      <td>False</td>\n",
              "      <td>False</td>\n",
              "    </tr>\n",
              "  </tbody>\n",
              "</table>\n",
              "</div>"
            ],
            "text/plain": [
              "  avg_prices  Year  Month  ...  Is_quarter_start  Is_year_end  Is_year_start\n",
              "0    710.325  2016      5  ...             False        False          False\n",
              "1     716.98  2016      5  ...             False        False          False\n",
              "2     712.88  2016      5  ...             False        False          False\n",
              "3    706.765  2016      5  ...             False        False          False\n",
              "4     704.19  2016      5  ...             False        False          False\n",
              "\n",
              "[5 rows x 13 columns]"
            ]
          },
          "metadata": {
            "tags": []
          },
          "execution_count": 308
        }
      ]
    },
    {
      "cell_type": "code",
      "metadata": {
        "id": "0qGG-ylOSjoS",
        "colab": {
          "base_uri": "https://localhost:8080/"
        },
        "outputId": "30e993be-94d3-4281-809b-aa6772ed51a4"
      },
      "source": [
        "#split into train set and validation set\n",
        "train = new_data[:987]\n",
        "valid = new_data[987:]\n",
        "\n",
        "x_train = train.drop('avg_prices', axis=1)\n",
        "y_train = train['avg_prices']\n",
        "x_valid = valid.drop('avg_prices', axis=1)\n",
        "y_valid = valid['avg_prices']\n",
        "\n",
        "#implementing linear regression\n",
        "from sklearn.linear_model import LinearRegression\n",
        "model = LinearRegression()\n",
        "model.fit(x_train,y_train)"
      ],
      "execution_count": null,
      "outputs": [
        {
          "output_type": "execute_result",
          "data": {
            "text/plain": [
              "LinearRegression(copy_X=True, fit_intercept=True, n_jobs=None, normalize=False)"
            ]
          },
          "metadata": {
            "tags": []
          },
          "execution_count": 309
        }
      ]
    },
    {
      "cell_type": "code",
      "metadata": {
        "id": "bvEa1RrdSmT1",
        "colab": {
          "base_uri": "https://localhost:8080/"
        },
        "outputId": "8ece35d1-a9ac-4d34-d6c9-5e100d4e5a3e"
      },
      "source": [
        "# Making predictions\n",
        "preds = model.predict(x_valid)"
      ],
      "execution_count": null,
      "outputs": [
        {
          "output_type": "stream",
          "text": [
            "     avg_prices  Year  Month  ...  Is_quarter_start  Is_year_end  Is_year_start\n",
            "987      2239.1  2020      4  ...             False        False          False\n",
            "988     2289.19  2020      4  ...             False        False          False\n",
            "989        2398  2020      4  ...             False        False          False\n",
            "990     2358.01  2020      4  ...             False        False          False\n",
            "991     2415.52  2020      4  ...             False        False          False\n",
            "...         ...   ...    ...  ...               ...          ...            ...\n",
            "1253    3320.05  2021      5  ...             False        False          False\n",
            "1254    3309.53  2021      5  ...             False        False          False\n",
            "1255     3280.8  2021      5  ...             False        False          False\n",
            "1256    3309.98  2021      5  ...             False        False          False\n",
            "1257     3236.5  2021      5  ...             False        False          False\n",
            "\n",
            "[271 rows x 13 columns]\n",
            "[2095.252891 2097.386734 2099.520577 2101.65442  ... 2549.837672 2551.971515 2554.105358 2551.222865]\n"
          ],
          "name": "stdout"
        }
      ]
    },
    {
      "cell_type": "code",
      "metadata": {
        "id": "N-4dpVYDSm6e",
        "colab": {
          "base_uri": "https://localhost:8080/"
        },
        "outputId": "1a782362-7682-41ef-b5fd-c205384946ac"
      },
      "source": [
        "#caluclating Root Mean Square Error\n",
        "rms=np.sqrt(np.mean(np.power((np.array(y_valid)-np.array(preds)),2)))\n",
        "rms"
      ],
      "execution_count": 315,
      "outputs": [
        {
          "output_type": "execute_result",
          "data": {
            "text/plain": [
              "811.0788395036105"
            ]
          },
          "metadata": {
            "tags": []
          },
          "execution_count": 315
        }
      ]
    },
    {
      "cell_type": "code",
      "metadata": {
        "id": "sEO9TylFSqGN",
        "colab": {
          "base_uri": "https://localhost:8080/",
          "height": 827
        },
        "outputId": "0b444ce4-16a3-4e74-c11a-9c4efa961628"
      },
      "source": [
        "#plot graph between Train data, Test data, and validation data\n",
        "valid['Predictions'] = 0\n",
        "valid['Predictions'] = preds\n",
        "\n",
        "valid.index = new_data[987:].index\n",
        "train.index = new_data[:987].index\n",
        "\n",
        "plt.plot(train['avg_prices'])\n",
        "plt.plot(valid[['avg_prices', 'Predictions']])"
      ],
      "execution_count": null,
      "outputs": [
        {
          "output_type": "stream",
          "text": [
            "/usr/local/lib/python3.7/dist-packages/ipykernel_launcher.py:2: SettingWithCopyWarning: \n",
            "A value is trying to be set on a copy of a slice from a DataFrame.\n",
            "Try using .loc[row_indexer,col_indexer] = value instead\n",
            "\n",
            "See the caveats in the documentation: https://pandas.pydata.org/pandas-docs/stable/user_guide/indexing.html#returning-a-view-versus-a-copy\n",
            "  \n",
            "/usr/local/lib/python3.7/dist-packages/ipykernel_launcher.py:3: SettingWithCopyWarning: \n",
            "A value is trying to be set on a copy of a slice from a DataFrame.\n",
            "Try using .loc[row_indexer,col_indexer] = value instead\n",
            "\n",
            "See the caveats in the documentation: https://pandas.pydata.org/pandas-docs/stable/user_guide/indexing.html#returning-a-view-versus-a-copy\n",
            "  This is separate from the ipykernel package so we can avoid doing imports until\n"
          ],
          "name": "stderr"
        },
        {
          "output_type": "execute_result",
          "data": {
            "text/plain": [
              "[<matplotlib.lines.Line2D at 0x7feaa281a9d0>,\n",
              " <matplotlib.lines.Line2D at 0x7feaa281abd0>]"
            ]
          },
          "metadata": {
            "tags": []
          },
          "execution_count": 312
        },
        {
          "output_type": "display_data",
          "data": {
            "image/png": "[encoded data removed]",
            "text/plain": [
              "<Figure size 1440x720 with 1 Axes>"
            ]
          },
          "metadata": {
            "tags": [],
            "needs_background": "light"
          }
        }
      ]
    }
  ]
}