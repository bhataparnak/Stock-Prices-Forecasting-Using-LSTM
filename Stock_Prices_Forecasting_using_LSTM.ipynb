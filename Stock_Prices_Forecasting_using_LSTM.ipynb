{
  "nbformat": 4,
  "nbformat_minor": 0,
  "metadata": {
    "colab": {
      "name": "Stock_price_predicition_milestone3.ipynb",
      "provenance": [],
      "collapsed_sections": []
    },
    "kernelspec": {
      "name": "python3",
      "display_name": "Python 3"
    },
    "language_info": {
      "name": "python"
    }
  },
  "cells": [
    {
      "cell_type": "code",
      "metadata": {
        "id": "bpCWWPqDTnnQ"
      },
      "source": [
        "# Importing the required libraries\n",
        "time_window=10\n",
        "import math\n",
        "import pandas as pd\n",
        "import numpy as np\n",
        "from math import sqrt\n",
        "from numpy import array, concatenate\n",
        "from matplotlib import pyplot\n",
        "from pandas import read_csv, DataFrame, concat\n",
        "from datetime import datetime\n",
        "import matplotlib.pyplot as plt\n",
        "from sklearn.preprocessing import MinMaxScaler\n",
        "from sklearn.preprocessing import LabelEncoder\n",
        "from sklearn.metrics import mean_squared_error\n",
        "from keras.models import Sequential\n",
        "from keras.layers import Dense\n",
        "from keras.layers import LSTM"
      ],
      "execution_count": 94,
      "outputs": []
    },
    {
      "cell_type": "code",
      "metadata": {
        "colab": {
          "base_uri": "https://localhost:8080/"
        },
        "id": "raG-TuCrKFz8",
        "outputId": "e88f8cff-d8a7-41fb-ade0-300df3326578"
      },
      "source": [
        "from google.colab import drive\n",
        "drive.mount('/content/gdrive')\n",
        "# drive.flush_and_unmount()"
      ],
      "execution_count": 95,
      "outputs": [
        {
          "output_type": "stream",
          "text": [
            "Drive already mounted at /content/gdrive; to attempt to forcibly remount, call drive.mount(\"/content/gdrive\", force_remount=True).\n"
          ],
          "name": "stdout"
        }
      ]
    },
    {
      "cell_type": "markdown",
      "metadata": {
        "id": "-1d4uHjwPg5H"
      },
      "source": [
        "**Gather the Company Stock Price Dataset and Covid Dataset and combining it into a single**"
      ]
    },
    {
      "cell_type": "code",
      "metadata": {
        "colab": {
          "base_uri": "https://localhost:8080/",
          "height": 195
        },
        "id": "2qqShGAfaT10",
        "outputId": "d74351d4-5fd7-498d-ab84-2c258e300dca"
      },
      "source": [
        "# Reading Confirmed covid cases in the US file in csv and converting it into dataframe\n",
        "covid_dataset = read_csv('/content/gdrive/MyDrive/us_confirmed_cases.csv', usecols = ['Country/Region','US'], parse_dates=[\"Country/Region\"])\n",
        "covid_dataset = covid_dataset[1:]\n",
        "covid_dataset.columns = ['Date', 'US']\n",
        "covid_dataset['Date'] = pd.to_datetime(covid_dataset.Date)\n",
        "covid_dataset['Date'] = covid_dataset['Date'].dt.strftime('%m/%d/%Y')\n",
        "covid_dataset.head(5)"
      ],
      "execution_count": 96,
      "outputs": [
        {
          "output_type": "execute_result",
          "data": {
            "text/html": [
              "<div>\n",
              "<style scoped>\n",
              "    .dataframe tbody tr th:only-of-type {\n",
              "        vertical-align: middle;\n",
              "    }\n",
              "\n",
              "    .dataframe tbody tr th {\n",
              "        vertical-align: top;\n",
              "    }\n",
              "\n",
              "    .dataframe thead th {\n",
              "        text-align: right;\n",
              "    }\n",
              "</style>\n",
              "<table border=\"1\" class=\"dataframe\">\n",
              "  <thead>\n",
              "    <tr style=\"text-align: right;\">\n",
              "      <th></th>\n",
              "      <th>Date</th>\n",
              "      <th>US</th>\n",
              "    </tr>\n",
              "  </thead>\n",
              "  <tbody>\n",
              "    <tr>\n",
              "      <th>1</th>\n",
              "      <td>01/23/2020</td>\n",
              "      <td>0.0</td>\n",
              "    </tr>\n",
              "    <tr>\n",
              "      <th>2</th>\n",
              "      <td>01/24/2020</td>\n",
              "      <td>1.0</td>\n",
              "    </tr>\n",
              "    <tr>\n",
              "      <th>3</th>\n",
              "      <td>01/25/2020</td>\n",
              "      <td>0.0</td>\n",
              "    </tr>\n",
              "    <tr>\n",
              "      <th>4</th>\n",
              "      <td>01/26/2020</td>\n",
              "      <td>3.0</td>\n",
              "    </tr>\n",
              "    <tr>\n",
              "      <th>5</th>\n",
              "      <td>01/27/2020</td>\n",
              "      <td>0.0</td>\n",
              "    </tr>\n",
              "  </tbody>\n",
              "</table>\n",
              "</div>"
            ],
            "text/plain": [
              "         Date   US\n",
              "1  01/23/2020  0.0\n",
              "2  01/24/2020  1.0\n",
              "3  01/25/2020  0.0\n",
              "4  01/26/2020  3.0\n",
              "5  01/27/2020  0.0"
            ]
          },
          "metadata": {
            "tags": []
          },
          "execution_count": 96
        }
      ]
    },
    {
      "cell_type": "code",
      "metadata": {
        "colab": {
          "base_uri": "https://localhost:8080/",
          "height": 195
        },
        "id": "mU9gTdztTs89",
        "outputId": "7f06c921-6f16-4f9b-fc65-5846e9707b30"
      },
      "source": [
        "#Reading Amazon stock prices data file in csv and converting it into dataframe\n",
        "file_name=\"AMZN.csv\"\n",
        "# file_name=\"DAL.csv\"\n",
        "# file_name=\"NFLX.csv\"\n",
        "# file_name=\"UAL.csv\"\n",
        "stock_dataset = read_csv('/content/gdrive/MyDrive/'+file_name, usecols=['Date', 'High', 'Low'])\n",
        "stock_dataset['Date'] = pd.to_datetime(stock_dataset.Date)\n",
        "stock_dataset['Date'] = stock_dataset['Date'].dt.strftime('%m/%d/%Y')\n",
        "stock_dataset.head(5)"
      ],
      "execution_count": 97,
      "outputs": [
        {
          "output_type": "execute_result",
          "data": {
            "text/html": [
              "<div>\n",
              "<style scoped>\n",
              "    .dataframe tbody tr th:only-of-type {\n",
              "        vertical-align: middle;\n",
              "    }\n",
              "\n",
              "    .dataframe tbody tr th {\n",
              "        vertical-align: top;\n",
              "    }\n",
              "\n",
              "    .dataframe thead th {\n",
              "        text-align: right;\n",
              "    }\n",
              "</style>\n",
              "<table border=\"1\" class=\"dataframe\">\n",
              "  <thead>\n",
              "    <tr style=\"text-align: right;\">\n",
              "      <th></th>\n",
              "      <th>Date</th>\n",
              "      <th>High</th>\n",
              "      <th>Low</th>\n",
              "    </tr>\n",
              "  </thead>\n",
              "  <tbody>\n",
              "    <tr>\n",
              "      <th>0</th>\n",
              "      <td>05/11/2016</td>\n",
              "      <td>719.000000</td>\n",
              "      <td>701.650024</td>\n",
              "    </tr>\n",
              "    <tr>\n",
              "      <th>1</th>\n",
              "      <td>05/12/2016</td>\n",
              "      <td>722.450012</td>\n",
              "      <td>711.510010</td>\n",
              "    </tr>\n",
              "    <tr>\n",
              "      <th>2</th>\n",
              "      <td>05/13/2016</td>\n",
              "      <td>719.250000</td>\n",
              "      <td>706.510010</td>\n",
              "    </tr>\n",
              "    <tr>\n",
              "      <th>3</th>\n",
              "      <td>05/16/2016</td>\n",
              "      <td>713.250000</td>\n",
              "      <td>700.280029</td>\n",
              "    </tr>\n",
              "    <tr>\n",
              "      <th>4</th>\n",
              "      <td>05/17/2016</td>\n",
              "      <td>714.469971</td>\n",
              "      <td>693.909973</td>\n",
              "    </tr>\n",
              "  </tbody>\n",
              "</table>\n",
              "</div>"
            ],
            "text/plain": [
              "         Date        High         Low\n",
              "0  05/11/2016  719.000000  701.650024\n",
              "1  05/12/2016  722.450012  711.510010\n",
              "2  05/13/2016  719.250000  706.510010\n",
              "3  05/16/2016  713.250000  700.280029\n",
              "4  05/17/2016  714.469971  693.909973"
            ]
          },
          "metadata": {
            "tags": []
          },
          "execution_count": 97
        }
      ]
    },
    {
      "cell_type": "code",
      "metadata": {
        "id": "8p0qJL0Vf9VS",
        "colab": {
          "base_uri": "https://localhost:8080/",
          "height": 639
        },
        "outputId": "1dd69c75-5b31-4107-f783-8e13411c557b"
      },
      "source": [
        "# Merging the covid_dataset and stock_dataset to get the dataset needed to train the LSTM model\n",
        "merged_dataset = pd.merge(left=covid_dataset, right=stock_dataset, how='left', left_on='Date', right_on='Date')\n",
        "\n",
        "# Taking the Average of low and high values from the merged_dataset\n",
        "high_prices = merged_dataset.loc[:,'High'].to_numpy()\n",
        "low_prices = merged_dataset.loc[:,'Low'].to_numpy()\n",
        "merged_dataset['Average'] = (high_prices+low_prices)/2.0\n",
        "merged_dataset=merged_dataset.drop(['High', 'Low'], axis=1)\n",
        "merged_dataset.head(20)"
      ],
      "execution_count": 98,
      "outputs": [
        {
          "output_type": "execute_result",
          "data": {
            "text/html": [
              "<div>\n",
              "<style scoped>\n",
              "    .dataframe tbody tr th:only-of-type {\n",
              "        vertical-align: middle;\n",
              "    }\n",
              "\n",
              "    .dataframe tbody tr th {\n",
              "        vertical-align: top;\n",
              "    }\n",
              "\n",
              "    .dataframe thead th {\n",
              "        text-align: right;\n",
              "    }\n",
              "</style>\n",
              "<table border=\"1\" class=\"dataframe\">\n",
              "  <thead>\n",
              "    <tr style=\"text-align: right;\">\n",
              "      <th></th>\n",
              "      <th>Date</th>\n",
              "      <th>US</th>\n",
              "      <th>Average</th>\n",
              "    </tr>\n",
              "  </thead>\n",
              "  <tbody>\n",
              "    <tr>\n",
              "      <th>0</th>\n",
              "      <td>01/23/2020</td>\n",
              "      <td>0.0</td>\n",
              "      <td>1881.369995</td>\n",
              "    </tr>\n",
              "    <tr>\n",
              "      <th>1</th>\n",
              "      <td>01/24/2020</td>\n",
              "      <td>1.0</td>\n",
              "      <td>1871.214965</td>\n",
              "    </tr>\n",
              "    <tr>\n",
              "      <th>2</th>\n",
              "      <td>01/25/2020</td>\n",
              "      <td>0.0</td>\n",
              "      <td>NaN</td>\n",
              "    </tr>\n",
              "    <tr>\n",
              "      <th>3</th>\n",
              "      <td>01/26/2020</td>\n",
              "      <td>3.0</td>\n",
              "      <td>NaN</td>\n",
              "    </tr>\n",
              "    <tr>\n",
              "      <th>4</th>\n",
              "      <td>01/27/2020</td>\n",
              "      <td>0.0</td>\n",
              "      <td>1828.169983</td>\n",
              "    </tr>\n",
              "    <tr>\n",
              "      <th>5</th>\n",
              "      <td>01/28/2020</td>\n",
              "      <td>0.0</td>\n",
              "      <td>1844.065002</td>\n",
              "    </tr>\n",
              "    <tr>\n",
              "      <th>6</th>\n",
              "      <td>01/29/2020</td>\n",
              "      <td>1.0</td>\n",
              "      <td>1864.885010</td>\n",
              "    </tr>\n",
              "    <tr>\n",
              "      <th>7</th>\n",
              "      <td>01/30/2020</td>\n",
              "      <td>0.0</td>\n",
              "      <td>1861.739990</td>\n",
              "    </tr>\n",
              "    <tr>\n",
              "      <th>8</th>\n",
              "      <td>01/31/2020</td>\n",
              "      <td>2.0</td>\n",
              "      <td>2028.994995</td>\n",
              "    </tr>\n",
              "    <tr>\n",
              "      <th>9</th>\n",
              "      <td>02/01/2020</td>\n",
              "      <td>0.0</td>\n",
              "      <td>NaN</td>\n",
              "    </tr>\n",
              "    <tr>\n",
              "      <th>10</th>\n",
              "      <td>02/02/2020</td>\n",
              "      <td>0.0</td>\n",
              "      <td>NaN</td>\n",
              "    </tr>\n",
              "    <tr>\n",
              "      <th>11</th>\n",
              "      <td>02/03/2020</td>\n",
              "      <td>3.0</td>\n",
              "      <td>2024.375000</td>\n",
              "    </tr>\n",
              "    <tr>\n",
              "      <th>12</th>\n",
              "      <td>02/04/2020</td>\n",
              "      <td>0.0</td>\n",
              "      <td>2037.585022</td>\n",
              "    </tr>\n",
              "    <tr>\n",
              "      <th>13</th>\n",
              "      <td>02/05/2020</td>\n",
              "      <td>0.0</td>\n",
              "      <td>2051.510010</td>\n",
              "    </tr>\n",
              "    <tr>\n",
              "      <th>14</th>\n",
              "      <td>02/06/2020</td>\n",
              "      <td>1.0</td>\n",
              "      <td>2040.550049</td>\n",
              "    </tr>\n",
              "    <tr>\n",
              "      <th>15</th>\n",
              "      <td>02/07/2020</td>\n",
              "      <td>0.0</td>\n",
              "      <td>2068.315002</td>\n",
              "    </tr>\n",
              "    <tr>\n",
              "      <th>16</th>\n",
              "      <td>02/08/2020</td>\n",
              "      <td>0.0</td>\n",
              "      <td>NaN</td>\n",
              "    </tr>\n",
              "    <tr>\n",
              "      <th>17</th>\n",
              "      <td>02/09/2020</td>\n",
              "      <td>0.0</td>\n",
              "      <td>NaN</td>\n",
              "    </tr>\n",
              "    <tr>\n",
              "      <th>18</th>\n",
              "      <td>02/10/2020</td>\n",
              "      <td>0.0</td>\n",
              "      <td>2110.280029</td>\n",
              "    </tr>\n",
              "    <tr>\n",
              "      <th>19</th>\n",
              "      <td>02/11/2020</td>\n",
              "      <td>1.0</td>\n",
              "      <td>2160.974976</td>\n",
              "    </tr>\n",
              "  </tbody>\n",
              "</table>\n",
              "</div>"
            ],
            "text/plain": [
              "          Date   US      Average\n",
              "0   01/23/2020  0.0  1881.369995\n",
              "1   01/24/2020  1.0  1871.214965\n",
              "2   01/25/2020  0.0          NaN\n",
              "3   01/26/2020  3.0          NaN\n",
              "4   01/27/2020  0.0  1828.169983\n",
              "5   01/28/2020  0.0  1844.065002\n",
              "6   01/29/2020  1.0  1864.885010\n",
              "7   01/30/2020  0.0  1861.739990\n",
              "8   01/31/2020  2.0  2028.994995\n",
              "9   02/01/2020  0.0          NaN\n",
              "10  02/02/2020  0.0          NaN\n",
              "11  02/03/2020  3.0  2024.375000\n",
              "12  02/04/2020  0.0  2037.585022\n",
              "13  02/05/2020  0.0  2051.510010\n",
              "14  02/06/2020  1.0  2040.550049\n",
              "15  02/07/2020  0.0  2068.315002\n",
              "16  02/08/2020  0.0          NaN\n",
              "17  02/09/2020  0.0          NaN\n",
              "18  02/10/2020  0.0  2110.280029\n",
              "19  02/11/2020  1.0  2160.974976"
            ]
          },
          "metadata": {
            "tags": []
          },
          "execution_count": 98
        }
      ]
    },
    {
      "cell_type": "code",
      "metadata": {
        "id": "03XxqUoMk3rY"
      },
      "source": [
        "# Filling the NaN values with the previous days average value \n",
        "merged_dataset['Average'].fillna(method='ffill', inplace=True)\n",
        "\n",
        "# Making the date column as index of the merged_dataset\n",
        "merged_dataset.set_index('Date', inplace=True)"
      ],
      "execution_count": 99,
      "outputs": []
    },
    {
      "cell_type": "code",
      "metadata": {
        "id": "3F0ljsv19rsg",
        "colab": {
          "base_uri": "https://localhost:8080/",
          "height": 431
        },
        "outputId": "e2dd081f-a7c8-4ba6-979d-606e382a5b3c"
      },
      "source": [
        "# Re arranging the columns and saving it to a csv file\n",
        "merged_dataset=merged_dataset.reindex(columns=['Average', 'US'])\n",
        "merged_dataset.to_csv('final.csv')\n",
        "avg_dataset=merged_dataset[\"Average\"]\n",
        "merged_dataset"
      ],
      "execution_count": 100,
      "outputs": [
        {
          "output_type": "execute_result",
          "data": {
            "text/html": [
              "<div>\n",
              "<style scoped>\n",
              "    .dataframe tbody tr th:only-of-type {\n",
              "        vertical-align: middle;\n",
              "    }\n",
              "\n",
              "    .dataframe tbody tr th {\n",
              "        vertical-align: top;\n",
              "    }\n",
              "\n",
              "    .dataframe thead th {\n",
              "        text-align: right;\n",
              "    }\n",
              "</style>\n",
              "<table border=\"1\" class=\"dataframe\">\n",
              "  <thead>\n",
              "    <tr style=\"text-align: right;\">\n",
              "      <th></th>\n",
              "      <th>Average</th>\n",
              "      <th>US</th>\n",
              "    </tr>\n",
              "    <tr>\n",
              "      <th>Date</th>\n",
              "      <th></th>\n",
              "      <th></th>\n",
              "    </tr>\n",
              "  </thead>\n",
              "  <tbody>\n",
              "    <tr>\n",
              "      <th>01/23/2020</th>\n",
              "      <td>1881.369995</td>\n",
              "      <td>0.0</td>\n",
              "    </tr>\n",
              "    <tr>\n",
              "      <th>01/24/2020</th>\n",
              "      <td>1871.214965</td>\n",
              "      <td>1.0</td>\n",
              "    </tr>\n",
              "    <tr>\n",
              "      <th>01/25/2020</th>\n",
              "      <td>1871.214965</td>\n",
              "      <td>0.0</td>\n",
              "    </tr>\n",
              "    <tr>\n",
              "      <th>01/26/2020</th>\n",
              "      <td>1871.214965</td>\n",
              "      <td>3.0</td>\n",
              "    </tr>\n",
              "    <tr>\n",
              "      <th>01/27/2020</th>\n",
              "      <td>1828.169983</td>\n",
              "      <td>0.0</td>\n",
              "    </tr>\n",
              "    <tr>\n",
              "      <th>...</th>\n",
              "      <td>...</td>\n",
              "      <td>...</td>\n",
              "    </tr>\n",
              "    <tr>\n",
              "      <th>05/04/2021</th>\n",
              "      <td>3320.054931</td>\n",
              "      <td>40733.0</td>\n",
              "    </tr>\n",
              "    <tr>\n",
              "      <th>05/05/2021</th>\n",
              "      <td>3309.530029</td>\n",
              "      <td>44510.0</td>\n",
              "    </tr>\n",
              "    <tr>\n",
              "      <th>05/06/2021</th>\n",
              "      <td>3280.799926</td>\n",
              "      <td>47366.0</td>\n",
              "    </tr>\n",
              "    <tr>\n",
              "      <th>05/07/2021</th>\n",
              "      <td>3309.979981</td>\n",
              "      <td>47055.0</td>\n",
              "    </tr>\n",
              "    <tr>\n",
              "      <th>05/08/2021</th>\n",
              "      <td>3309.979981</td>\n",
              "      <td>34391.0</td>\n",
              "    </tr>\n",
              "  </tbody>\n",
              "</table>\n",
              "<p>472 rows × 2 columns</p>\n",
              "</div>"
            ],
            "text/plain": [
              "                Average       US\n",
              "Date                            \n",
              "01/23/2020  1881.369995      0.0\n",
              "01/24/2020  1871.214965      1.0\n",
              "01/25/2020  1871.214965      0.0\n",
              "01/26/2020  1871.214965      3.0\n",
              "01/27/2020  1828.169983      0.0\n",
              "...                 ...      ...\n",
              "05/04/2021  3320.054931  40733.0\n",
              "05/05/2021  3309.530029  44510.0\n",
              "05/06/2021  3280.799926  47366.0\n",
              "05/07/2021  3309.979981  47055.0\n",
              "05/08/2021  3309.979981  34391.0\n",
              "\n",
              "[472 rows x 2 columns]"
            ]
          },
          "metadata": {
            "tags": []
          },
          "execution_count": 100
        }
      ]
    },
    {
      "cell_type": "markdown",
      "metadata": {
        "id": "kd5VCXFQQXnu"
      },
      "source": [
        "**Prepare data for LSTM model**"
      ]
    },
    {
      "cell_type": "code",
      "metadata": {
        "id": "TUmzubrL4JyL",
        "colab": {
          "base_uri": "https://localhost:8080/",
          "height": 380
        },
        "outputId": "3f8ebf3e-83a1-4446-de1d-b9ee5e6ab265"
      },
      "source": [
        "# converting series to supervised learning\n",
        "def series_to_supervised(data, n_in=1, n_out=1, dropnan=True):\n",
        "\tn_vars = 1 if type(data) is list else data.shape[1]\n",
        "\tdf = DataFrame(data)\n",
        "\tcols, names = list(), list()\n",
        "\t# input sequence (t-n, ... t-1)\n",
        "\tfor i in range(n_in, 0, -1):\n",
        "\t\tcols.append(df.shift(i))\n",
        "\t\tnames += [('var%d(t-%d)' % (j+1, i)) for j in range(n_vars)]\n",
        "\t# forecast sequence (t, t+1, ... t+n)\n",
        "\tfor i in range(0, n_out):\n",
        "\t\tcols.append(df.shift(-i))\n",
        "\t\tif i == 0:\n",
        "\t\t\tnames += [('var%d(t)' % (j+1)) for j in range(n_vars)]\n",
        "\t\telse:\n",
        "\t\t\tnames += [('var%d(t+%d)' % (j+1, i)) for j in range(n_vars)]\n",
        "\t# put it all together\n",
        "\tagg = concat(cols, axis=1)\n",
        "\tagg.columns = names\n",
        "\t# drop rows with NaN values\n",
        "\tif dropnan:\n",
        "\t\tagg.dropna(inplace=True)\n",
        "\treturn agg\n",
        "\n",
        "# load dataset\n",
        "dataset = read_csv('final.csv', header=0, index_col=0)\n",
        "values = dataset.values\n",
        "values = values.astype('float32')\n",
        "# normalize features\n",
        "scaler = MinMaxScaler(feature_range=(0, 1))\n",
        "scaled = scaler.fit_transform(values)\n",
        "# frame as supervised learning\n",
        "reframed = series_to_supervised(scaled, time_window, 1)\n",
        "# drop columns we don't want to predict\n",
        "\n",
        "covid_cases=reframed.iloc[:,-1]\n",
        "reframed.drop(reframed.columns[-1], axis=1, inplace=True)\n",
        "reframed.head(10)"
      ],
      "execution_count": 101,
      "outputs": [
        {
          "output_type": "execute_result",
          "data": {
            "text/html": [
              "<div>\n",
              "<style scoped>\n",
              "    .dataframe tbody tr th:only-of-type {\n",
              "        vertical-align: middle;\n",
              "    }\n",
              "\n",
              "    .dataframe tbody tr th {\n",
              "        vertical-align: top;\n",
              "    }\n",
              "\n",
              "    .dataframe thead th {\n",
              "        text-align: right;\n",
              "    }\n",
              "</style>\n",
              "<table border=\"1\" class=\"dataframe\">\n",
              "  <thead>\n",
              "    <tr style=\"text-align: right;\">\n",
              "      <th></th>\n",
              "      <th>var1(t-10)</th>\n",
              "      <th>var2(t-10)</th>\n",
              "      <th>var1(t-9)</th>\n",
              "      <th>var2(t-9)</th>\n",
              "      <th>var1(t-8)</th>\n",
              "      <th>var2(t-8)</th>\n",
              "      <th>var1(t-7)</th>\n",
              "      <th>var2(t-7)</th>\n",
              "      <th>var1(t-6)</th>\n",
              "      <th>var2(t-6)</th>\n",
              "      <th>var1(t-5)</th>\n",
              "      <th>var2(t-5)</th>\n",
              "      <th>var1(t-4)</th>\n",
              "      <th>var2(t-4)</th>\n",
              "      <th>var1(t-3)</th>\n",
              "      <th>var2(t-3)</th>\n",
              "      <th>var1(t-2)</th>\n",
              "      <th>var2(t-2)</th>\n",
              "      <th>var1(t-1)</th>\n",
              "      <th>var2(t-1)</th>\n",
              "      <th>var1(t)</th>\n",
              "    </tr>\n",
              "  </thead>\n",
              "  <tbody>\n",
              "    <tr>\n",
              "      <th>10</th>\n",
              "      <td>0.103261</td>\n",
              "      <td>0.000000</td>\n",
              "      <td>0.097702</td>\n",
              "      <td>0.000003</td>\n",
              "      <td>0.097702</td>\n",
              "      <td>0.000000</td>\n",
              "      <td>0.097702</td>\n",
              "      <td>0.000010</td>\n",
              "      <td>0.074138</td>\n",
              "      <td>0.000000</td>\n",
              "      <td>0.082839</td>\n",
              "      <td>0.000000</td>\n",
              "      <td>0.094237</td>\n",
              "      <td>0.000003</td>\n",
              "      <td>0.092515</td>\n",
              "      <td>0.000000</td>\n",
              "      <td>0.184075</td>\n",
              "      <td>0.000007</td>\n",
              "      <td>0.184075</td>\n",
              "      <td>0.000000</td>\n",
              "      <td>0.184075</td>\n",
              "    </tr>\n",
              "    <tr>\n",
              "      <th>11</th>\n",
              "      <td>0.097702</td>\n",
              "      <td>0.000003</td>\n",
              "      <td>0.097702</td>\n",
              "      <td>0.000000</td>\n",
              "      <td>0.097702</td>\n",
              "      <td>0.000010</td>\n",
              "      <td>0.074138</td>\n",
              "      <td>0.000000</td>\n",
              "      <td>0.082839</td>\n",
              "      <td>0.000000</td>\n",
              "      <td>0.094237</td>\n",
              "      <td>0.000003</td>\n",
              "      <td>0.092515</td>\n",
              "      <td>0.000000</td>\n",
              "      <td>0.184075</td>\n",
              "      <td>0.000007</td>\n",
              "      <td>0.184075</td>\n",
              "      <td>0.000000</td>\n",
              "      <td>0.184075</td>\n",
              "      <td>0.000000</td>\n",
              "      <td>0.181546</td>\n",
              "    </tr>\n",
              "    <tr>\n",
              "      <th>12</th>\n",
              "      <td>0.097702</td>\n",
              "      <td>0.000000</td>\n",
              "      <td>0.097702</td>\n",
              "      <td>0.000010</td>\n",
              "      <td>0.074138</td>\n",
              "      <td>0.000000</td>\n",
              "      <td>0.082839</td>\n",
              "      <td>0.000000</td>\n",
              "      <td>0.094237</td>\n",
              "      <td>0.000003</td>\n",
              "      <td>0.092515</td>\n",
              "      <td>0.000000</td>\n",
              "      <td>0.184075</td>\n",
              "      <td>0.000007</td>\n",
              "      <td>0.184075</td>\n",
              "      <td>0.000000</td>\n",
              "      <td>0.184075</td>\n",
              "      <td>0.000000</td>\n",
              "      <td>0.181546</td>\n",
              "      <td>0.000010</td>\n",
              "      <td>0.188777</td>\n",
              "    </tr>\n",
              "    <tr>\n",
              "      <th>13</th>\n",
              "      <td>0.097702</td>\n",
              "      <td>0.000010</td>\n",
              "      <td>0.074138</td>\n",
              "      <td>0.000000</td>\n",
              "      <td>0.082839</td>\n",
              "      <td>0.000000</td>\n",
              "      <td>0.094237</td>\n",
              "      <td>0.000003</td>\n",
              "      <td>0.092515</td>\n",
              "      <td>0.000000</td>\n",
              "      <td>0.184075</td>\n",
              "      <td>0.000007</td>\n",
              "      <td>0.184075</td>\n",
              "      <td>0.000000</td>\n",
              "      <td>0.184075</td>\n",
              "      <td>0.000000</td>\n",
              "      <td>0.181546</td>\n",
              "      <td>0.000010</td>\n",
              "      <td>0.188777</td>\n",
              "      <td>0.000000</td>\n",
              "      <td>0.196400</td>\n",
              "    </tr>\n",
              "    <tr>\n",
              "      <th>14</th>\n",
              "      <td>0.074138</td>\n",
              "      <td>0.000000</td>\n",
              "      <td>0.082839</td>\n",
              "      <td>0.000000</td>\n",
              "      <td>0.094237</td>\n",
              "      <td>0.000003</td>\n",
              "      <td>0.092515</td>\n",
              "      <td>0.000000</td>\n",
              "      <td>0.184075</td>\n",
              "      <td>0.000007</td>\n",
              "      <td>0.184075</td>\n",
              "      <td>0.000000</td>\n",
              "      <td>0.184075</td>\n",
              "      <td>0.000000</td>\n",
              "      <td>0.181546</td>\n",
              "      <td>0.000010</td>\n",
              "      <td>0.188777</td>\n",
              "      <td>0.000000</td>\n",
              "      <td>0.196400</td>\n",
              "      <td>0.000000</td>\n",
              "      <td>0.190400</td>\n",
              "    </tr>\n",
              "    <tr>\n",
              "      <th>15</th>\n",
              "      <td>0.082839</td>\n",
              "      <td>0.000000</td>\n",
              "      <td>0.094237</td>\n",
              "      <td>0.000003</td>\n",
              "      <td>0.092515</td>\n",
              "      <td>0.000000</td>\n",
              "      <td>0.184075</td>\n",
              "      <td>0.000007</td>\n",
              "      <td>0.184075</td>\n",
              "      <td>0.000000</td>\n",
              "      <td>0.184075</td>\n",
              "      <td>0.000000</td>\n",
              "      <td>0.181546</td>\n",
              "      <td>0.000010</td>\n",
              "      <td>0.188777</td>\n",
              "      <td>0.000000</td>\n",
              "      <td>0.196400</td>\n",
              "      <td>0.000000</td>\n",
              "      <td>0.190400</td>\n",
              "      <td>0.000003</td>\n",
              "      <td>0.205600</td>\n",
              "    </tr>\n",
              "    <tr>\n",
              "      <th>16</th>\n",
              "      <td>0.094237</td>\n",
              "      <td>0.000003</td>\n",
              "      <td>0.092515</td>\n",
              "      <td>0.000000</td>\n",
              "      <td>0.184075</td>\n",
              "      <td>0.000007</td>\n",
              "      <td>0.184075</td>\n",
              "      <td>0.000000</td>\n",
              "      <td>0.184075</td>\n",
              "      <td>0.000000</td>\n",
              "      <td>0.181546</td>\n",
              "      <td>0.000010</td>\n",
              "      <td>0.188777</td>\n",
              "      <td>0.000000</td>\n",
              "      <td>0.196400</td>\n",
              "      <td>0.000000</td>\n",
              "      <td>0.190400</td>\n",
              "      <td>0.000003</td>\n",
              "      <td>0.205600</td>\n",
              "      <td>0.000000</td>\n",
              "      <td>0.205600</td>\n",
              "    </tr>\n",
              "    <tr>\n",
              "      <th>17</th>\n",
              "      <td>0.092515</td>\n",
              "      <td>0.000000</td>\n",
              "      <td>0.184075</td>\n",
              "      <td>0.000007</td>\n",
              "      <td>0.184075</td>\n",
              "      <td>0.000000</td>\n",
              "      <td>0.184075</td>\n",
              "      <td>0.000000</td>\n",
              "      <td>0.181546</td>\n",
              "      <td>0.000010</td>\n",
              "      <td>0.188777</td>\n",
              "      <td>0.000000</td>\n",
              "      <td>0.196400</td>\n",
              "      <td>0.000000</td>\n",
              "      <td>0.190400</td>\n",
              "      <td>0.000003</td>\n",
              "      <td>0.205600</td>\n",
              "      <td>0.000000</td>\n",
              "      <td>0.205600</td>\n",
              "      <td>0.000000</td>\n",
              "      <td>0.205600</td>\n",
              "    </tr>\n",
              "    <tr>\n",
              "      <th>18</th>\n",
              "      <td>0.184075</td>\n",
              "      <td>0.000007</td>\n",
              "      <td>0.184075</td>\n",
              "      <td>0.000000</td>\n",
              "      <td>0.184075</td>\n",
              "      <td>0.000000</td>\n",
              "      <td>0.181546</td>\n",
              "      <td>0.000010</td>\n",
              "      <td>0.188777</td>\n",
              "      <td>0.000000</td>\n",
              "      <td>0.196400</td>\n",
              "      <td>0.000000</td>\n",
              "      <td>0.190400</td>\n",
              "      <td>0.000003</td>\n",
              "      <td>0.205600</td>\n",
              "      <td>0.000000</td>\n",
              "      <td>0.205600</td>\n",
              "      <td>0.000000</td>\n",
              "      <td>0.205600</td>\n",
              "      <td>0.000000</td>\n",
              "      <td>0.228572</td>\n",
              "    </tr>\n",
              "    <tr>\n",
              "      <th>19</th>\n",
              "      <td>0.184075</td>\n",
              "      <td>0.000000</td>\n",
              "      <td>0.184075</td>\n",
              "      <td>0.000000</td>\n",
              "      <td>0.181546</td>\n",
              "      <td>0.000010</td>\n",
              "      <td>0.188777</td>\n",
              "      <td>0.000000</td>\n",
              "      <td>0.196400</td>\n",
              "      <td>0.000000</td>\n",
              "      <td>0.190400</td>\n",
              "      <td>0.000003</td>\n",
              "      <td>0.205600</td>\n",
              "      <td>0.000000</td>\n",
              "      <td>0.205600</td>\n",
              "      <td>0.000000</td>\n",
              "      <td>0.205600</td>\n",
              "      <td>0.000000</td>\n",
              "      <td>0.228572</td>\n",
              "      <td>0.000000</td>\n",
              "      <td>0.256324</td>\n",
              "    </tr>\n",
              "  </tbody>\n",
              "</table>\n",
              "</div>"
            ],
            "text/plain": [
              "    var1(t-10)  var2(t-10)  var1(t-9)  ...  var1(t-1)  var2(t-1)   var1(t)\n",
              "10    0.103261    0.000000   0.097702  ...   0.184075   0.000000  0.184075\n",
              "11    0.097702    0.000003   0.097702  ...   0.184075   0.000000  0.181546\n",
              "12    0.097702    0.000000   0.097702  ...   0.181546   0.000010  0.188777\n",
              "13    0.097702    0.000010   0.074138  ...   0.188777   0.000000  0.196400\n",
              "14    0.074138    0.000000   0.082839  ...   0.196400   0.000000  0.190400\n",
              "15    0.082839    0.000000   0.094237  ...   0.190400   0.000003  0.205600\n",
              "16    0.094237    0.000003   0.092515  ...   0.205600   0.000000  0.205600\n",
              "17    0.092515    0.000000   0.184075  ...   0.205600   0.000000  0.205600\n",
              "18    0.184075    0.000007   0.184075  ...   0.205600   0.000000  0.228572\n",
              "19    0.184075    0.000000   0.184075  ...   0.228572   0.000000  0.256324\n",
              "\n",
              "[10 rows x 21 columns]"
            ]
          },
          "metadata": {
            "tags": []
          },
          "execution_count": 101
        }
      ]
    },
    {
      "cell_type": "markdown",
      "metadata": {
        "id": "CeoQ-inzQcVl"
      },
      "source": [
        "**Split the dataset into train and test sets**"
      ]
    },
    {
      "cell_type": "code",
      "metadata": {
        "id": "oiCnbEkc-H2t",
        "colab": {
          "base_uri": "https://localhost:8080/"
        },
        "outputId": "ff974b40-8acb-47db-d867-2fdd7db48862"
      },
      "source": [
        "# Considering 70% of the data as train set and the remaining as test set\n",
        "values = reframed.values\n",
        "n_train_hours = math.floor(0.7 * values.shape[0])\n",
        "train = values[:n_train_hours, :]\n",
        "# print(train.shape)\n",
        "test = values[n_train_hours:, :]\n",
        "# split into input and outputs\n",
        "train_X, train_y = train[:, :-1], train[:, -1]\n",
        "test_X, test_y = test[:, :-1], test[:, -1]\n",
        "last_five_days=train_X[-1:,:]\n",
        "# print(last_five_days.shape)\n",
        "# reshape input to be 3D [samples, timesteps, features]\n",
        "train_X = train_X.reshape((train_X.shape[0], 1, train_X.shape[1]))\n",
        "test_X = test_X.reshape((test_X.shape[0], 1, test_X.shape[1]))\n",
        "print(train_X.shape, train_y.shape, test_X.shape, test_y.shape)\n",
        "days_prediction=test_y.shape[0]\n",
        "# days_prediction"
      ],
      "execution_count": 102,
      "outputs": [
        {
          "output_type": "stream",
          "text": [
            "(323, 1, 20) (323,) (139, 1, 20) (139,)\n"
          ],
          "name": "stdout"
        }
      ]
    },
    {
      "cell_type": "markdown",
      "metadata": {
        "id": "GH234qQuRP44"
      },
      "source": [
        "**Designing the LSTM Model**"
      ]
    },
    {
      "cell_type": "code",
      "metadata": {
        "colab": {
          "base_uri": "https://localhost:8080/"
        },
        "id": "9hmWxSuKqR9N",
        "outputId": "4404d873-fd36-4a68-f3a9-d29cfea62216"
      },
      "source": [
        "model = Sequential()\n",
        "model.add(LSTM(50,return_sequences=True,input_shape=(train_X.shape[1], train_X.shape[2])))\n",
        "model.add(LSTM(50,return_sequences=True))\n",
        "model.add(LSTM(50))\n",
        "model.add(Dense(1))\n",
        "model.compile(loss='mean_squared_error',optimizer='adam')\n",
        "history = model.fit(train_X,train_y,validation_data=(test_X, test_y),epochs=100,batch_size=25,verbose=2, shuffle=False)"
      ],
      "execution_count": 103,
      "outputs": [
        {
          "output_type": "stream",
          "text": [
            "Epoch 1/100\n",
            "13/13 - 5s - loss: 0.3563 - val_loss: 0.5778\n",
            "Epoch 2/100\n",
            "13/13 - 0s - loss: 0.2495 - val_loss: 0.3390\n",
            "Epoch 3/100\n",
            "13/13 - 0s - loss: 0.0692 - val_loss: 0.0135\n",
            "Epoch 4/100\n",
            "13/13 - 0s - loss: 0.0246 - val_loss: 0.0187\n",
            "Epoch 5/100\n",
            "13/13 - 0s - loss: 0.0226 - val_loss: 0.0193\n",
            "Epoch 6/100\n",
            "13/13 - 0s - loss: 0.0099 - val_loss: 0.0086\n",
            "Epoch 7/100\n",
            "13/13 - 0s - loss: 0.0092 - val_loss: 0.0068\n",
            "Epoch 8/100\n",
            "13/13 - 0s - loss: 0.0094 - val_loss: 0.0052\n",
            "Epoch 9/100\n",
            "13/13 - 0s - loss: 0.0076 - val_loss: 0.0055\n",
            "Epoch 10/100\n",
            "13/13 - 0s - loss: 0.0072 - val_loss: 0.0044\n",
            "Epoch 11/100\n",
            "13/13 - 0s - loss: 0.0065 - val_loss: 0.0040\n",
            "Epoch 12/100\n",
            "13/13 - 0s - loss: 0.0059 - val_loss: 0.0035\n",
            "Epoch 13/100\n",
            "13/13 - 0s - loss: 0.0054 - val_loss: 0.0031\n",
            "Epoch 14/100\n",
            "13/13 - 0s - loss: 0.0049 - val_loss: 0.0027\n",
            "Epoch 15/100\n",
            "13/13 - 0s - loss: 0.0045 - val_loss: 0.0024\n",
            "Epoch 16/100\n",
            "13/13 - 0s - loss: 0.0041 - val_loss: 0.0022\n",
            "Epoch 17/100\n",
            "13/13 - 0s - loss: 0.0039 - val_loss: 0.0020\n",
            "Epoch 18/100\n",
            "13/13 - 0s - loss: 0.0036 - val_loss: 0.0019\n",
            "Epoch 19/100\n",
            "13/13 - 0s - loss: 0.0034 - val_loss: 0.0018\n",
            "Epoch 20/100\n",
            "13/13 - 0s - loss: 0.0033 - val_loss: 0.0018\n",
            "Epoch 21/100\n",
            "13/13 - 0s - loss: 0.0032 - val_loss: 0.0018\n",
            "Epoch 22/100\n",
            "13/13 - 0s - loss: 0.0031 - val_loss: 0.0018\n",
            "Epoch 23/100\n",
            "13/13 - 0s - loss: 0.0030 - val_loss: 0.0018\n",
            "Epoch 24/100\n",
            "13/13 - 0s - loss: 0.0030 - val_loss: 0.0017\n",
            "Epoch 25/100\n",
            "13/13 - 0s - loss: 0.0030 - val_loss: 0.0018\n",
            "Epoch 26/100\n",
            "13/13 - 0s - loss: 0.0029 - val_loss: 0.0017\n",
            "Epoch 27/100\n",
            "13/13 - 0s - loss: 0.0029 - val_loss: 0.0017\n",
            "Epoch 28/100\n",
            "13/13 - 0s - loss: 0.0028 - val_loss: 0.0017\n",
            "Epoch 29/100\n",
            "13/13 - 0s - loss: 0.0028 - val_loss: 0.0017\n",
            "Epoch 30/100\n",
            "13/13 - 0s - loss: 0.0027 - val_loss: 0.0017\n",
            "Epoch 31/100\n",
            "13/13 - 0s - loss: 0.0027 - val_loss: 0.0017\n",
            "Epoch 32/100\n",
            "13/13 - 0s - loss: 0.0027 - val_loss: 0.0017\n",
            "Epoch 33/100\n",
            "13/13 - 0s - loss: 0.0027 - val_loss: 0.0017\n",
            "Epoch 34/100\n",
            "13/13 - 0s - loss: 0.0026 - val_loss: 0.0016\n",
            "Epoch 35/100\n",
            "13/13 - 0s - loss: 0.0026 - val_loss: 0.0016\n",
            "Epoch 36/100\n",
            "13/13 - 0s - loss: 0.0025 - val_loss: 0.0016\n",
            "Epoch 37/100\n",
            "13/13 - 0s - loss: 0.0025 - val_loss: 0.0016\n",
            "Epoch 38/100\n",
            "13/13 - 0s - loss: 0.0025 - val_loss: 0.0016\n",
            "Epoch 39/100\n",
            "13/13 - 0s - loss: 0.0025 - val_loss: 0.0016\n",
            "Epoch 40/100\n",
            "13/13 - 0s - loss: 0.0024 - val_loss: 0.0016\n",
            "Epoch 41/100\n",
            "13/13 - 0s - loss: 0.0024 - val_loss: 0.0016\n",
            "Epoch 42/100\n",
            "13/13 - 0s - loss: 0.0024 - val_loss: 0.0016\n",
            "Epoch 43/100\n",
            "13/13 - 0s - loss: 0.0023 - val_loss: 0.0015\n",
            "Epoch 44/100\n",
            "13/13 - 0s - loss: 0.0023 - val_loss: 0.0015\n",
            "Epoch 45/100\n",
            "13/13 - 0s - loss: 0.0023 - val_loss: 0.0015\n",
            "Epoch 46/100\n",
            "13/13 - 0s - loss: 0.0022 - val_loss: 0.0015\n",
            "Epoch 47/100\n",
            "13/13 - 0s - loss: 0.0022 - val_loss: 0.0015\n",
            "Epoch 48/100\n",
            "13/13 - 0s - loss: 0.0022 - val_loss: 0.0015\n",
            "Epoch 49/100\n",
            "13/13 - 0s - loss: 0.0021 - val_loss: 0.0015\n",
            "Epoch 50/100\n",
            "13/13 - 0s - loss: 0.0021 - val_loss: 0.0015\n",
            "Epoch 51/100\n",
            "13/13 - 0s - loss: 0.0021 - val_loss: 0.0015\n",
            "Epoch 52/100\n",
            "13/13 - 0s - loss: 0.0021 - val_loss: 0.0014\n",
            "Epoch 53/100\n",
            "13/13 - 0s - loss: 0.0020 - val_loss: 0.0014\n",
            "Epoch 54/100\n",
            "13/13 - 0s - loss: 0.0020 - val_loss: 0.0014\n",
            "Epoch 55/100\n",
            "13/13 - 0s - loss: 0.0020 - val_loss: 0.0014\n",
            "Epoch 56/100\n",
            "13/13 - 0s - loss: 0.0020 - val_loss: 0.0014\n",
            "Epoch 57/100\n",
            "13/13 - 0s - loss: 0.0019 - val_loss: 0.0014\n",
            "Epoch 58/100\n",
            "13/13 - 0s - loss: 0.0019 - val_loss: 0.0014\n",
            "Epoch 59/100\n",
            "13/13 - 0s - loss: 0.0019 - val_loss: 0.0014\n",
            "Epoch 60/100\n",
            "13/13 - 0s - loss: 0.0019 - val_loss: 0.0014\n",
            "Epoch 61/100\n",
            "13/13 - 0s - loss: 0.0018 - val_loss: 0.0013\n",
            "Epoch 62/100\n",
            "13/13 - 0s - loss: 0.0018 - val_loss: 0.0013\n",
            "Epoch 63/100\n",
            "13/13 - 0s - loss: 0.0018 - val_loss: 0.0013\n",
            "Epoch 64/100\n",
            "13/13 - 0s - loss: 0.0018 - val_loss: 0.0013\n",
            "Epoch 65/100\n",
            "13/13 - 0s - loss: 0.0018 - val_loss: 0.0013\n",
            "Epoch 66/100\n",
            "13/13 - 0s - loss: 0.0017 - val_loss: 0.0013\n",
            "Epoch 67/100\n",
            "13/13 - 0s - loss: 0.0017 - val_loss: 0.0013\n",
            "Epoch 68/100\n",
            "13/13 - 0s - loss: 0.0017 - val_loss: 0.0013\n",
            "Epoch 69/100\n",
            "13/13 - 0s - loss: 0.0017 - val_loss: 0.0012\n",
            "Epoch 70/100\n",
            "13/13 - 0s - loss: 0.0017 - val_loss: 0.0012\n",
            "Epoch 71/100\n",
            "13/13 - 0s - loss: 0.0016 - val_loss: 0.0012\n",
            "Epoch 72/100\n",
            "13/13 - 0s - loss: 0.0016 - val_loss: 0.0012\n",
            "Epoch 73/100\n",
            "13/13 - 0s - loss: 0.0016 - val_loss: 0.0012\n",
            "Epoch 74/100\n",
            "13/13 - 0s - loss: 0.0016 - val_loss: 0.0012\n",
            "Epoch 75/100\n",
            "13/13 - 0s - loss: 0.0016 - val_loss: 0.0012\n",
            "Epoch 76/100\n",
            "13/13 - 0s - loss: 0.0015 - val_loss: 0.0011\n",
            "Epoch 77/100\n",
            "13/13 - 0s - loss: 0.0015 - val_loss: 0.0011\n",
            "Epoch 78/100\n",
            "13/13 - 0s - loss: 0.0015 - val_loss: 0.0011\n",
            "Epoch 79/100\n",
            "13/13 - 0s - loss: 0.0015 - val_loss: 0.0011\n",
            "Epoch 80/100\n",
            "13/13 - 0s - loss: 0.0015 - val_loss: 0.0011\n",
            "Epoch 81/100\n",
            "13/13 - 0s - loss: 0.0014 - val_loss: 0.0011\n",
            "Epoch 82/100\n",
            "13/13 - 0s - loss: 0.0014 - val_loss: 0.0010\n",
            "Epoch 83/100\n",
            "13/13 - 0s - loss: 0.0014 - val_loss: 0.0010\n",
            "Epoch 84/100\n",
            "13/13 - 0s - loss: 0.0014 - val_loss: 0.0010\n",
            "Epoch 85/100\n",
            "13/13 - 0s - loss: 0.0014 - val_loss: 0.0010\n",
            "Epoch 86/100\n",
            "13/13 - 0s - loss: 0.0014 - val_loss: 9.8726e-04\n",
            "Epoch 87/100\n",
            "13/13 - 0s - loss: 0.0013 - val_loss: 9.7279e-04\n",
            "Epoch 88/100\n",
            "13/13 - 0s - loss: 0.0013 - val_loss: 9.5878e-04\n",
            "Epoch 89/100\n",
            "13/13 - 0s - loss: 0.0013 - val_loss: 9.4523e-04\n",
            "Epoch 90/100\n",
            "13/13 - 0s - loss: 0.0013 - val_loss: 9.3201e-04\n",
            "Epoch 91/100\n",
            "13/13 - 0s - loss: 0.0013 - val_loss: 9.1890e-04\n",
            "Epoch 92/100\n",
            "13/13 - 0s - loss: 0.0013 - val_loss: 9.0592e-04\n",
            "Epoch 93/100\n",
            "13/13 - 0s - loss: 0.0013 - val_loss: 8.9346e-04\n",
            "Epoch 94/100\n",
            "13/13 - 0s - loss: 0.0012 - val_loss: 8.8209e-04\n",
            "Epoch 95/100\n",
            "13/13 - 0s - loss: 0.0012 - val_loss: 8.7261e-04\n",
            "Epoch 96/100\n",
            "13/13 - 0s - loss: 0.0012 - val_loss: 8.6644e-04\n",
            "Epoch 97/100\n",
            "13/13 - 0s - loss: 0.0012 - val_loss: 8.6631e-04\n",
            "Epoch 98/100\n",
            "13/13 - 0s - loss: 0.0012 - val_loss: 8.7664e-04\n",
            "Epoch 99/100\n",
            "13/13 - 0s - loss: 0.0013 - val_loss: 9.0101e-04\n",
            "Epoch 100/100\n",
            "13/13 - 0s - loss: 0.0013 - val_loss: 9.2714e-04\n"
          ],
          "name": "stdout"
        }
      ]
    },
    {
      "cell_type": "code",
      "metadata": {
        "id": "vivo2vkwRbrk",
        "colab": {
          "base_uri": "https://localhost:8080/",
          "height": 298
        },
        "outputId": "9c186847-3238-42ba-81ca-81a90f1499e9"
      },
      "source": [
        "# plot history\n",
        "pyplot.plot(history.history['loss'], label='Loss')\n",
        "pyplot.plot(history.history['val_loss'], label='Val_loss')\n",
        "pyplot.legend()\n",
        "plt.title('Train vs test data - '+ file_name)"
      ],
      "execution_count": 104,
      "outputs": [
        {
          "output_type": "execute_result",
          "data": {
            "text/plain": [
              "Text(0.5, 1.0, 'Train vs test data - AMZN.csv')"
            ]
          },
          "metadata": {
            "tags": []
          },
          "execution_count": 104
        },
        {
          "output_type": "display_data",
          "data": {
            "image/png": "[encoded data removed]",
            "text/plain": [
              "<Figure size 432x288 with 1 Axes>"
            ]
          },
          "metadata": {
            "tags": [],
            "needs_background": "light"
          }
        }
      ]
    },
    {
      "cell_type": "code",
      "metadata": {
        "id": "nwsBtkjsAi8m",
        "colab": {
          "base_uri": "https://localhost:8080/"
        },
        "outputId": "e777e9d2-b4c0-4fa9-aeb8-83c948cbf91b"
      },
      "source": [
        "# Making predictions and calculate the RMSE value\n",
        "print(test_X.shape)\n",
        "yhat = model.predict(test_X)\n",
        "test_X = test_X.reshape((test_X.shape[0], test_X.shape[2]))\n",
        "# invert scaling for forecast\n",
        "inv_yhat = concatenate((yhat, test_X[:, -1:]), axis=1)\n",
        "inv_yhat = scaler.inverse_transform(inv_yhat)\n",
        "# invert scaling for actual\n",
        "test_y = test_y.reshape((len(test_y), 1))\n",
        "inv_y = concatenate((test_y, test_X[:, -1:]), axis=1)\n",
        "inv_y = scaler.inverse_transform(inv_y)\n",
        "\n",
        "# calculate Root Mean Square Error\n",
        "rmse = sqrt(mean_squared_error(inv_y, inv_yhat))\n",
        "print('Test RMSE: %.3f' % rmse)"
      ],
      "execution_count": 105,
      "outputs": [
        {
          "output_type": "stream",
          "text": [
            "(139, 1, 20)\n",
            "Test RMSE: 39.331\n"
          ],
          "name": "stdout"
        }
      ]
    },
    {
      "cell_type": "markdown",
      "metadata": {
        "id": "-V5RcOL2iTx2"
      },
      "source": [
        "**Plotting graph between train data, test data and predicted data**"
      ]
    },
    {
      "cell_type": "code",
      "metadata": {
        "id": "LY6NqQboUHcn"
      },
      "source": [
        "train_X = train_X.reshape((train_X.shape[0], train_X.shape[2]))\n",
        "inv_x=scaler.inverse_transform(train_X[:,-2:])\n",
        "day_new=np.arange(1,train_X.shape[0]+1)\n",
        "day_pred=np.arange(train_X.shape[0]+1,train_X.shape[0]+1+inv_y.shape[0])"
      ],
      "execution_count": 106,
      "outputs": []
    },
    {
      "cell_type": "code",
      "metadata": {
        "id": "e7dBiizEEA3b",
        "colab": {
          "base_uri": "https://localhost:8080/",
          "height": 298
        },
        "outputId": "ba89bd7e-41ff-4ecd-bc7d-0fbcee6e04ca"
      },
      "source": [
        "plt.plot(day_new,inv_x[:,0], label='train')\n",
        "plt.plot(day_pred,inv_y[:,0], label='test')\n",
        "plt.plot(day_pred,inv_yhat[:,0], label='predicted')\n",
        "plt.legend()\n",
        "plt.title('Stock price prediction - '+file_name)"
      ],
      "execution_count": 107,
      "outputs": [
        {
          "output_type": "execute_result",
          "data": {
            "text/plain": [
              "Text(0.5, 1.0, 'Stock price prediction - AMZN.csv')"
            ]
          },
          "metadata": {
            "tags": []
          },
          "execution_count": 107
        },
        {
          "output_type": "display_data",
          "data": {
            "image/png": "[encoded data removed]",
            "text/plain": [
              "<Figure size 432x288 with 1 Axes>"
            ]
          },
          "metadata": {
            "tags": [],
            "needs_background": "light"
          }
        }
      ]
    },
    {
      "cell_type": "markdown",
      "metadata": {
        "id": "qZ3FJiMvicQV"
      },
      "source": [
        "**Prediciting the stock prices for the next days based on the existing data**"
      ]
    },
    {
      "cell_type": "code",
      "metadata": {
        "id": "3cUi_vDIfqFO",
        "colab": {
          "base_uri": "https://localhost:8080/"
        },
        "outputId": "46d9ab72-6bbd-4109-c07c-57802796d68d"
      },
      "source": [
        "# preparing data for prediction\n",
        "x_input=last_five_days\n",
        "x_input_1=x_input.reshape(1,-1)\n",
        "print(x_input_1.shape)\n",
        "x_input_2=x_input.reshape(1,-1)\n",
        "temp_input_1=list(x_input_1)\n",
        "temp_input_1=x_input_1[0].tolist()\n",
        "temp_input_2=list(x_input_1)\n",
        "temp_input_2=x_input_1[0].tolist()\n"
      ],
      "execution_count": 108,
      "outputs": [
        {
          "output_type": "stream",
          "text": [
            "(1, 20)\n"
          ],
          "name": "stdout"
        }
      ]
    },
    {
      "cell_type": "code",
      "metadata": {
        "id": "a7oWGVnaFz0y"
      },
      "source": [
        "covid_cases=covid_cases[-days_prediction:].values\n",
        "covid_cases=covid_cases.reshape(1,-1)\n",
        "covid_cases=list(covid_cases)\n",
        "covid_cases=covid_cases[0].tolist()\n",
        "covid_cases = [[i] for i in covid_cases]"
      ],
      "execution_count": 109,
      "outputs": []
    },
    {
      "cell_type": "code",
      "metadata": {
        "id": "XU-ZiDoSe4Ky",
        "colab": {
          "base_uri": "https://localhost:8080/"
        },
        "outputId": "28bcdd73-e2d3-45af-b09b-bf8886574baa"
      },
      "source": [
        "# prediction for next days\n",
        "days=days_prediction\n",
        "lst_output=[]\n",
        "n_steps=time_window*2\n",
        "i=0\n",
        "while(i<days):\n",
        "    \n",
        "    if(len(temp_input_1)>n_steps):\n",
        "      x_input_1=np.array(temp_input_1[2:])\n",
        "      x_input_1=x_input_1.reshape(1,-1)\n",
        "      x_input_1 = x_input_1.reshape((1, 1, n_steps))\n",
        "      yhat = model.predict(x_input_1, verbose=0)\n",
        "      temp_input_1.extend(yhat[0].tolist())\n",
        "      temp_input_1.extend(covid_cases[i])\n",
        "      temp_input_1=temp_input_1[2:]\n",
        "      lst_output.extend(yhat.tolist())\n",
        "      i=i+1\n",
        "    else:\n",
        "      x_input_1 = x_input_1.reshape((1, 1,n_steps))\n",
        "      yhat = model.predict(x_input_1, verbose=0)\n",
        "      temp_input_1.extend(yhat[0].tolist())\n",
        "      temp_input_1.extend(covid_cases[i])\n",
        "      lst_output.extend(yhat.tolist())\n",
        "      i=i+1\n",
        "    \n",
        "\n",
        "print(lst_output)"
      ],
      "execution_count": 110,
      "outputs": [
        {
          "output_type": "stream",
          "text": [
            "[[0.834968090057373], [0.8403168320655823], [0.8430874943733215], [0.8547711372375488], [0.856318473815918], [0.8824562430381775], [0.8743226528167725], [0.9066758751869202], [0.9002565145492554], [0.8843172192573547], [0.9064608216285706], [0.8718059062957764], [0.8834670186042786], [0.8414062261581421], [0.8575191497802734], [0.8529036045074463], [0.8315210938453674], [0.8604698777198792], [0.833460807800293], [0.8357454538345337], [0.8153895139694214], [0.8205018043518066], [0.825934648513794], [0.8325369358062744], [0.843310534954071], [0.8511197566986084], [0.8577427864074707], [0.8633037805557251], [0.8670076131820679], [0.8756235837936401], [0.8895334005355835], [0.9014781713485718], [0.9111826419830322], [0.9052475690841675], [0.9117981195449829], [0.9063281416893005], [0.9079391360282898], [0.9121223092079163], [0.9187041521072388], [0.9166331887245178], [0.9209453463554382], [0.9127292633056641], [0.9134328365325928], [0.9101189970970154], [0.9196105599403381], [0.9245728850364685], [0.9247273802757263], [0.9328806400299072], [0.9283257722854614], [0.931338369846344], [0.9269067049026489], [0.9380014538764954], [0.9381822347640991], [0.939149796962738], [0.9370608329772949], [0.9358259439468384], [0.9323470592498779], [0.9333253502845764], [0.9363799095153809], [0.9444968104362488], [0.9457789659500122], [0.9423600435256958], [0.9392567873001099], [0.9327341318130493], [0.9248192310333252], [0.9215641021728516], [0.9189329743385315], [0.9146169424057007], [0.9074504971504211], [0.9040858149528503], [0.8995376229286194], [0.8978132605552673], [0.8999181985855103], [0.901324987411499], [0.9015100002288818], [0.9006646871566772], [0.8954617977142334], [0.8963578343391418], [0.8933925032615662], [0.896926760673523], [0.9001431465148926], [0.8967598080635071], [0.8952628970146179], [0.8920184373855591], [0.8886256217956543], [0.8857159614562988], [0.8872071504592896], [0.887972891330719], [0.8837749361991882], [0.8845879435539246], [0.8779956102371216], [0.8799945116043091], [0.8751587867736816], [0.8806836009025574], [0.8795672059059143], [0.8746865391731262], [0.8698732256889343], [0.8598307967185974], [0.8666785955429077], [0.8546585440635681], [0.8682518005371094], [0.8667736053466797], [0.8671814799308777], [0.8730092644691467], [0.8639624118804932], [0.8700405955314636], [0.8662881255149841], [0.87483811378479], [0.8776158094406128], [0.8683240413665771], [0.8771651983261108], [0.8643858432769775], [0.8705377578735352], [0.8634934425354004], [0.873727560043335], [0.8765767216682434], [0.8717594742774963], [0.874631941318512], [0.874881386756897], [0.8769311308860779], [0.8760310411453247], [0.8882067799568176], [0.8888030052185059], [0.8889572620391846], [0.8911486268043518], [0.8868294954299927], [0.890469491481781], [0.8881726264953613], [0.8957083225250244], [0.9007075428962708], [0.8949335217475891], [0.8961160182952881], [0.890241265296936], [0.8900070786476135], [0.885361909866333], [0.8906399011611938], [0.8915619850158691], [0.8884404897689819], [0.8919971585273743]]\n"
          ],
          "name": "stdout"
        }
      ]
    },
    {
      "cell_type": "code",
      "metadata": {
        "id": "Wx2yPR3ahTM9",
        "colab": {
          "base_uri": "https://localhost:8080/",
          "height": 314
        },
        "outputId": "ef7d8ee4-0902-42a5-ee99-91d36d55e7d3"
      },
      "source": [
        "# Plotting graph to visualize the next days prediction\n",
        "output = concatenate((lst_output, covid_cases[-days_prediction:]), axis=1)\n",
        "output = scaler.inverse_transform(output)\n",
        "plt.plot(output[:,0],label='predicted')\n",
        "\n",
        "# plt.plot(inv_y[:,0],label='actual')\n",
        "rmse = sqrt(mean_squared_error(output[:,0], inv_y[:,0]))\n",
        "print('Test RMSE: %.3f' % rmse)\n",
        "plt.legend()\n",
        "plt.title(file_name + ' stock price data along with covid cases')"
      ],
      "execution_count": 111,
      "outputs": [
        {
          "output_type": "stream",
          "text": [
            "Test RMSE: 157.250\n"
          ],
          "name": "stdout"
        },
        {
          "output_type": "execute_result",
          "data": {
            "text/plain": [
              "Text(0.5, 1.0, 'AMZN.csv stock price data along with covid cases')"
            ]
          },
          "metadata": {
            "tags": []
          },
          "execution_count": 111
        },
        {
          "output_type": "display_data",
          "data": {
            "image/png": "[encoded data removed]",
            "text/plain": [
              "<Figure size 432x288 with 1 Axes>"
            ]
          },
          "metadata": {
            "tags": [],
            "needs_background": "light"
          }
        }
      ]
    },
    {
      "cell_type": "markdown",
      "metadata": {
        "id": "7HXg6bl7op3F"
      },
      "source": [
        "**Prediciting the stock prices for the next days based on the condition that there is no covid cases in the future**"
      ]
    },
    {
      "cell_type": "code",
      "metadata": {
        "id": "9miClihIMKWZ",
        "colab": {
          "base_uri": "https://localhost:8080/"
        },
        "outputId": "c4dcdcc0-1825-42d6-9512-28598d8f0134"
      },
      "source": [
        "# creating a new series with zero values for \n",
        "zero_covid = [0] * days_prediction\n",
        "zero_covid_cases=pd.Series(zero_covid).astype(np.float32) \n",
        "no_covid_cases=zero_covid_cases\n",
        "no_covid_cases=no_covid_cases.values\n",
        "no_covid_cases=no_covid_cases.reshape(1,-1)\n",
        "no_covid_cases=list(no_covid_cases)\n",
        "no_covid_cases=no_covid_cases[0].tolist()\n",
        "print(no_covid_cases)\n",
        "no_covid_cases = [[i] for i in no_covid_cases]"
      ],
      "execution_count": 112,
      "outputs": [
        {
          "output_type": "stream",
          "text": [
            "[0.0, 0.0, 0.0, 0.0, 0.0, 0.0, 0.0, 0.0, 0.0, 0.0, 0.0, 0.0, 0.0, 0.0, 0.0, 0.0, 0.0, 0.0, 0.0, 0.0, 0.0, 0.0, 0.0, 0.0, 0.0, 0.0, 0.0, 0.0, 0.0, 0.0, 0.0, 0.0, 0.0, 0.0, 0.0, 0.0, 0.0, 0.0, 0.0, 0.0, 0.0, 0.0, 0.0, 0.0, 0.0, 0.0, 0.0, 0.0, 0.0, 0.0, 0.0, 0.0, 0.0, 0.0, 0.0, 0.0, 0.0, 0.0, 0.0, 0.0, 0.0, 0.0, 0.0, 0.0, 0.0, 0.0, 0.0, 0.0, 0.0, 0.0, 0.0, 0.0, 0.0, 0.0, 0.0, 0.0, 0.0, 0.0, 0.0, 0.0, 0.0, 0.0, 0.0, 0.0, 0.0, 0.0, 0.0, 0.0, 0.0, 0.0, 0.0, 0.0, 0.0, 0.0, 0.0, 0.0, 0.0, 0.0, 0.0, 0.0, 0.0, 0.0, 0.0, 0.0, 0.0, 0.0, 0.0, 0.0, 0.0, 0.0, 0.0, 0.0, 0.0, 0.0, 0.0, 0.0, 0.0, 0.0, 0.0, 0.0, 0.0, 0.0, 0.0, 0.0, 0.0, 0.0, 0.0, 0.0, 0.0, 0.0, 0.0, 0.0, 0.0, 0.0, 0.0, 0.0, 0.0, 0.0, 0.0]\n"
          ],
          "name": "stdout"
        }
      ]
    },
    {
      "cell_type": "code",
      "metadata": {
        "id": "k2BMeZrDsSDx",
        "colab": {
          "base_uri": "https://localhost:8080/"
        },
        "outputId": "9e65b007-ef1b-4d76-b7ad-5c59b2190988"
      },
      "source": [
        "# prediction for next days\n",
        "from numpy import array\n",
        "days=days_prediction\n",
        "lst_output_1=[]\n",
        "n_steps=time_window*2\n",
        "i=0\n",
        "while(i<days):\n",
        "    \n",
        "    if(len(temp_input_2)>n_steps):\n",
        "      x_input_2=np.array(temp_input_2[2:])\n",
        "      x_input_2=x_input_2.reshape(1,-1)\n",
        "      x_input_2 = x_input_2.reshape((1, 1, n_steps))\n",
        "      yhat = model.predict(x_input_2, verbose=0)\n",
        "      temp_input_2.extend(yhat[0].tolist())\n",
        "      temp_input_2.extend(no_covid_cases[i])\n",
        "      temp_input_2=temp_input_2[2:]\n",
        "      lst_output_1.extend(yhat.tolist())\n",
        "      i=i+1\n",
        "    else:\n",
        "      x_input_2 = x_input_2.reshape((1, 1,n_steps))\n",
        "      yhat = model.predict(x_input_2, verbose=0)\n",
        "      temp_input_2.extend(yhat[0].tolist())\n",
        "      temp_input_2.extend(no_covid_cases[i])\n",
        "      lst_output_1.extend(yhat.tolist())\n",
        "      i=i+1\n",
        "    \n",
        "\n",
        "print(lst_output_1)"
      ],
      "execution_count": 113,
      "outputs": [
        {
          "output_type": "stream",
          "text": [
            "[[0.834968090057373], [0.8613795042037964], [0.882086455821991], [0.9463345408439636], [1.011951208114624], [1.0459766387939453], [1.1004847288131714], [1.1064924001693726], [1.1141749620437622], [1.0861883163452148], [1.0609887838363647], [1.0496275424957275], [1.0328164100646973], [1.0124925374984741], [0.9911971092224121], [0.9724005460739136], [0.9542580246925354], [0.9368071556091309], [0.9200424551963806], [0.9067682027816772], [0.894560694694519], [0.8825315833091736], [0.8715985417366028], [0.8618526458740234], [0.8531191349029541], [0.8448585271835327], [0.8371320962905884], [0.8301001787185669], [0.8236081600189209], [0.8173794150352478], [0.8114752173423767], [0.8059397339820862], [0.8007019758224487], [0.795680046081543], [0.790844202041626], [0.7862195372581482], [0.7817811965942383], [0.7774847745895386], [0.7733184099197388], [0.7692862749099731], [0.7653761506080627], [0.7615688443183899], [0.7578545808792114], [0.7542305588722229], [0.7506923675537109], [0.7472286224365234], [0.7438332438468933], [0.7405028939247131], [0.7372336387634277], [0.7340194582939148], [0.7308561205863953], [0.7277400493621826], [0.7246682047843933], [0.7216374278068542], [0.7186433672904968], [0.7156841158866882], [0.712756872177124], [0.7098589539527893], [0.7069879770278931], [0.7041414380073547], [0.7013174295425415], [0.6985138058662415], [0.6957287192344666], [0.6929598450660706], [0.690205991268158], [0.6874648332595825], [0.6847350597381592], [0.6820148229598999], [0.6793026328086853], [0.6765973567962646], [0.6738971471786499], [0.6712005734443665], [0.6685063242912292], [0.665813148021698], [0.6631196141242981], [0.6604242920875549], [0.6577262878417969], [0.6550241112709045], [0.6523163914680481], [0.6496022343635559], [0.6468801498413086], [0.644149124622345], [0.6414080262184143], [0.6386557221412659], [0.6358907222747803], [0.6331123113632202], [0.6303189396858215], [0.6275097727775574], [0.6246837377548218], [0.6218392848968506], [0.6189757585525513], [0.6160915493965149], [0.6131858229637146], [0.6102575063705444], [0.6073051691055298], [0.6043279767036438], [0.6013244986534119], [0.598293662071228], [0.5952342748641968], [0.5921453237533569], [0.589025616645813], [0.5858738422393799], [0.5826888680458069], [0.579469621181488], [0.576214611530304], [0.572922945022583], [0.5695933103561401], [0.5662246346473694], [0.5628154873847961], [0.5593647956848145], [0.5558713674545288], [0.5523339509963989], [0.5487512946128845], [0.5451224446296692], [0.5414460301399231], [0.5377209186553955], [0.5339459776878357], [0.5301198959350586], [0.5262418985366821], [0.5223105549812317], [0.5183250904083252], [0.5142842531204224], [0.5101871490478516], [0.5060327649116516], [0.5018202662467957], [0.4975486993789673], [0.4932173788547516], [0.4888255000114441], [0.48437249660491943], [0.47985756397247314], [0.47528040409088135], [0.47064071893692017], [0.46593788266181946], [0.46117204427719116], [0.4563430845737457], [0.4514508843421936], [0.446495920419693], [0.4414784610271454], [0.4363989233970642]]\n"
          ],
          "name": "stdout"
        }
      ]
    },
    {
      "cell_type": "code",
      "metadata": {
        "id": "EPa_J4BztJBL",
        "colab": {
          "base_uri": "https://localhost:8080/",
          "height": 314
        },
        "outputId": "1b207a6e-b434-4883-8d24-95e3fd390035"
      },
      "source": [
        "# Plotting graph to visualize the next days prediction\n",
        "output_1 = concatenate((lst_output_1, no_covid_cases), axis=1)\n",
        "output_1 = scaler.inverse_transform(output_1)\n",
        "plt.plot(output_1[:,0],label='predicted')\n",
        "rmse = sqrt(mean_squared_error(output_1[:,0], inv_y[:,0]))\n",
        "print('Test RMSE: %.3f' % rmse)\n",
        "\n",
        "# plt.plot(inv_y[:,0],label='actual')\n",
        "plt.legend()\n",
        "plt.title( file_name + ' stock price data without covid cases')"
      ],
      "execution_count": 114,
      "outputs": [
        {
          "output_type": "stream",
          "text": [
            "Test RMSE: 428.809\n"
          ],
          "name": "stdout"
        },
        {
          "output_type": "execute_result",
          "data": {
            "text/plain": [
              "Text(0.5, 1.0, 'AMZN.csv stock price data without covid cases')"
            ]
          },
          "metadata": {
            "tags": []
          },
          "execution_count": 114
        },
        {
          "output_type": "display_data",
          "data": {
            "image/png": "[encoded data removed]",
            "text/plain": [
              "<Figure size 432x288 with 1 Axes>"
            ]
          },
          "metadata": {
            "tags": [],
            "needs_background": "light"
          }
        }
      ]
    },
    {
      "cell_type": "code",
      "metadata": {
        "colab": {
          "base_uri": "https://localhost:8080/",
          "height": 298
        },
        "id": "VpQ5R2Ma4gKC",
        "outputId": "e0476ff6-5677-4eda-b810-bd2363d445b4"
      },
      "source": [
        "  plt.plot(output[:,0],label='with covid cases')\n",
        "plt.plot(output_1[:,0],label='without covid cases')\n",
        "plt.legend()\n",
        "\n",
        "plt.title(file_name)\n"
      ],
      "execution_count": 115,
      "outputs": [
        {
          "output_type": "execute_result",
          "data": {
            "text/plain": [
              "Text(0.5, 1.0, 'AMZN.csv')"
            ]
          },
          "metadata": {
            "tags": []
          },
          "execution_count": 115
        },
        {
          "output_type": "display_data",
          "data": {
            "image/png": "[encoded data removed]",
            "text/plain": [
              "<Figure size 432x288 with 1 Axes>"
            ]
          },
          "metadata": {
            "tags": [],
            "needs_background": "light"
          }
        }
      ]
    }
  ]
}